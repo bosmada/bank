{
 "cells": [
  {
   "cell_type": "code",
   "execution_count": 1,
   "metadata": {},
   "outputs": [],
   "source": [
    "import pandas as pd\n",
    "import numpy as np\n",
    "\n",
    "from sklearn import metrics\n",
    "\n",
    "import statsmodels.api as sm\n",
    "from sklearn.model_selection import train_test_split"
   ]
  },
  {
   "cell_type": "code",
   "execution_count": 2,
   "metadata": {},
   "outputs": [],
   "source": [
    "df = pd.read_csv(\"BankChurners.csv\")"
   ]
  },
  {
   "cell_type": "code",
   "execution_count": 3,
   "metadata": {},
   "outputs": [],
   "source": [
    "df = df.drop(['CLIENTNUM', 'Naive_Bayes_Classifier_Attrition_Flag_Card_Category_Contacts_Count_12_mon_Dependent_count_Education_Level_Months_Inactive_12_mon_1', 'Naive_Bayes_Classifier_Attrition_Flag_Card_Category_Contacts_Count_12_mon_Dependent_count_Education_Level_Months_Inactive_12_mon_2'], axis=1)"
   ]
  },
  {
   "cell_type": "code",
   "execution_count": 4,
   "metadata": {},
   "outputs": [],
   "source": [
    "df.drop(df[df['Marital_Status'] == \"Unknown\"].index, inplace=True)\n",
    "df.drop(df[df['Income_Category'] == \"Unknown\"].index, inplace=True)\n",
    "df.drop(df[df['Education_Level'] == \"Unknown\"].index, inplace=True)"
   ]
  },
  {
   "cell_type": "code",
   "execution_count": 5,
   "metadata": {},
   "outputs": [],
   "source": [
    "df['Attrition_Flag'] = df['Attrition_Flag'].replace(['Existing Customer'],'0')\n",
    "df['Attrition_Flag'] = df['Attrition_Flag'].replace(['Attrited Customer'],'1')"
   ]
  },
  {
   "cell_type": "code",
   "execution_count": 6,
   "metadata": {},
   "outputs": [
    {
     "data": {
      "text/html": [
       "<div>\n",
       "<style scoped>\n",
       "    .dataframe tbody tr th:only-of-type {\n",
       "        vertical-align: middle;\n",
       "    }\n",
       "\n",
       "    .dataframe tbody tr th {\n",
       "        vertical-align: top;\n",
       "    }\n",
       "\n",
       "    .dataframe thead th {\n",
       "        text-align: right;\n",
       "    }\n",
       "</style>\n",
       "<table border=\"1\" class=\"dataframe\">\n",
       "  <thead>\n",
       "    <tr style=\"text-align: right;\">\n",
       "      <th></th>\n",
       "      <th>Attrition_Flag</th>\n",
       "      <th>Customer_Age</th>\n",
       "      <th>Gender</th>\n",
       "      <th>Dependent_count</th>\n",
       "      <th>Education_Level</th>\n",
       "      <th>Marital_Status</th>\n",
       "      <th>Income_Category</th>\n",
       "      <th>Card_Category</th>\n",
       "      <th>Months_on_book</th>\n",
       "      <th>Total_Relationship_Count</th>\n",
       "      <th>Months_Inactive_12_mon</th>\n",
       "      <th>Contacts_Count_12_mon</th>\n",
       "      <th>Credit_Limit</th>\n",
       "      <th>Total_Revolving_Bal</th>\n",
       "      <th>Avg_Open_To_Buy</th>\n",
       "      <th>Total_Amt_Chng_Q4_Q1</th>\n",
       "      <th>Total_Trans_Amt</th>\n",
       "      <th>Total_Trans_Ct</th>\n",
       "      <th>Total_Ct_Chng_Q4_Q1</th>\n",
       "      <th>Avg_Utilization_Ratio</th>\n",
       "    </tr>\n",
       "  </thead>\n",
       "  <tbody>\n",
       "    <tr>\n",
       "      <th>0</th>\n",
       "      <td>0</td>\n",
       "      <td>45</td>\n",
       "      <td>M</td>\n",
       "      <td>3</td>\n",
       "      <td>High School</td>\n",
       "      <td>Married</td>\n",
       "      <td>$60K - $80K</td>\n",
       "      <td>Blue</td>\n",
       "      <td>39</td>\n",
       "      <td>5</td>\n",
       "      <td>1</td>\n",
       "      <td>3</td>\n",
       "      <td>12691.0</td>\n",
       "      <td>777</td>\n",
       "      <td>11914.0</td>\n",
       "      <td>1.335</td>\n",
       "      <td>1144</td>\n",
       "      <td>42</td>\n",
       "      <td>1.625</td>\n",
       "      <td>0.061</td>\n",
       "    </tr>\n",
       "    <tr>\n",
       "      <th>1</th>\n",
       "      <td>0</td>\n",
       "      <td>49</td>\n",
       "      <td>F</td>\n",
       "      <td>5</td>\n",
       "      <td>Graduate</td>\n",
       "      <td>Single</td>\n",
       "      <td>Less than $40K</td>\n",
       "      <td>Blue</td>\n",
       "      <td>44</td>\n",
       "      <td>6</td>\n",
       "      <td>1</td>\n",
       "      <td>2</td>\n",
       "      <td>8256.0</td>\n",
       "      <td>864</td>\n",
       "      <td>7392.0</td>\n",
       "      <td>1.541</td>\n",
       "      <td>1291</td>\n",
       "      <td>33</td>\n",
       "      <td>3.714</td>\n",
       "      <td>0.105</td>\n",
       "    </tr>\n",
       "    <tr>\n",
       "      <th>2</th>\n",
       "      <td>0</td>\n",
       "      <td>51</td>\n",
       "      <td>M</td>\n",
       "      <td>3</td>\n",
       "      <td>Graduate</td>\n",
       "      <td>Married</td>\n",
       "      <td>$80K - $120K</td>\n",
       "      <td>Blue</td>\n",
       "      <td>36</td>\n",
       "      <td>4</td>\n",
       "      <td>1</td>\n",
       "      <td>0</td>\n",
       "      <td>3418.0</td>\n",
       "      <td>0</td>\n",
       "      <td>3418.0</td>\n",
       "      <td>2.594</td>\n",
       "      <td>1887</td>\n",
       "      <td>20</td>\n",
       "      <td>2.333</td>\n",
       "      <td>0.000</td>\n",
       "    </tr>\n",
       "    <tr>\n",
       "      <th>4</th>\n",
       "      <td>0</td>\n",
       "      <td>40</td>\n",
       "      <td>M</td>\n",
       "      <td>3</td>\n",
       "      <td>Uneducated</td>\n",
       "      <td>Married</td>\n",
       "      <td>$60K - $80K</td>\n",
       "      <td>Blue</td>\n",
       "      <td>21</td>\n",
       "      <td>5</td>\n",
       "      <td>1</td>\n",
       "      <td>0</td>\n",
       "      <td>4716.0</td>\n",
       "      <td>0</td>\n",
       "      <td>4716.0</td>\n",
       "      <td>2.175</td>\n",
       "      <td>816</td>\n",
       "      <td>28</td>\n",
       "      <td>2.500</td>\n",
       "      <td>0.000</td>\n",
       "    </tr>\n",
       "    <tr>\n",
       "      <th>5</th>\n",
       "      <td>0</td>\n",
       "      <td>44</td>\n",
       "      <td>M</td>\n",
       "      <td>2</td>\n",
       "      <td>Graduate</td>\n",
       "      <td>Married</td>\n",
       "      <td>$40K - $60K</td>\n",
       "      <td>Blue</td>\n",
       "      <td>36</td>\n",
       "      <td>3</td>\n",
       "      <td>1</td>\n",
       "      <td>2</td>\n",
       "      <td>4010.0</td>\n",
       "      <td>1247</td>\n",
       "      <td>2763.0</td>\n",
       "      <td>1.376</td>\n",
       "      <td>1088</td>\n",
       "      <td>24</td>\n",
       "      <td>0.846</td>\n",
       "      <td>0.311</td>\n",
       "    </tr>\n",
       "    <tr>\n",
       "      <th>...</th>\n",
       "      <td>...</td>\n",
       "      <td>...</td>\n",
       "      <td>...</td>\n",
       "      <td>...</td>\n",
       "      <td>...</td>\n",
       "      <td>...</td>\n",
       "      <td>...</td>\n",
       "      <td>...</td>\n",
       "      <td>...</td>\n",
       "      <td>...</td>\n",
       "      <td>...</td>\n",
       "      <td>...</td>\n",
       "      <td>...</td>\n",
       "      <td>...</td>\n",
       "      <td>...</td>\n",
       "      <td>...</td>\n",
       "      <td>...</td>\n",
       "      <td>...</td>\n",
       "      <td>...</td>\n",
       "      <td>...</td>\n",
       "    </tr>\n",
       "    <tr>\n",
       "      <th>10120</th>\n",
       "      <td>0</td>\n",
       "      <td>54</td>\n",
       "      <td>M</td>\n",
       "      <td>1</td>\n",
       "      <td>High School</td>\n",
       "      <td>Single</td>\n",
       "      <td>$60K - $80K</td>\n",
       "      <td>Blue</td>\n",
       "      <td>34</td>\n",
       "      <td>5</td>\n",
       "      <td>2</td>\n",
       "      <td>0</td>\n",
       "      <td>13940.0</td>\n",
       "      <td>2109</td>\n",
       "      <td>11831.0</td>\n",
       "      <td>0.660</td>\n",
       "      <td>15577</td>\n",
       "      <td>114</td>\n",
       "      <td>0.754</td>\n",
       "      <td>0.151</td>\n",
       "    </tr>\n",
       "    <tr>\n",
       "      <th>10121</th>\n",
       "      <td>0</td>\n",
       "      <td>56</td>\n",
       "      <td>F</td>\n",
       "      <td>1</td>\n",
       "      <td>Graduate</td>\n",
       "      <td>Single</td>\n",
       "      <td>Less than $40K</td>\n",
       "      <td>Blue</td>\n",
       "      <td>50</td>\n",
       "      <td>4</td>\n",
       "      <td>1</td>\n",
       "      <td>4</td>\n",
       "      <td>3688.0</td>\n",
       "      <td>606</td>\n",
       "      <td>3082.0</td>\n",
       "      <td>0.570</td>\n",
       "      <td>14596</td>\n",
       "      <td>120</td>\n",
       "      <td>0.791</td>\n",
       "      <td>0.164</td>\n",
       "    </tr>\n",
       "    <tr>\n",
       "      <th>10122</th>\n",
       "      <td>0</td>\n",
       "      <td>50</td>\n",
       "      <td>M</td>\n",
       "      <td>2</td>\n",
       "      <td>Graduate</td>\n",
       "      <td>Single</td>\n",
       "      <td>$40K - $60K</td>\n",
       "      <td>Blue</td>\n",
       "      <td>40</td>\n",
       "      <td>3</td>\n",
       "      <td>2</td>\n",
       "      <td>3</td>\n",
       "      <td>4003.0</td>\n",
       "      <td>1851</td>\n",
       "      <td>2152.0</td>\n",
       "      <td>0.703</td>\n",
       "      <td>15476</td>\n",
       "      <td>117</td>\n",
       "      <td>0.857</td>\n",
       "      <td>0.462</td>\n",
       "    </tr>\n",
       "    <tr>\n",
       "      <th>10124</th>\n",
       "      <td>1</td>\n",
       "      <td>44</td>\n",
       "      <td>F</td>\n",
       "      <td>1</td>\n",
       "      <td>High School</td>\n",
       "      <td>Married</td>\n",
       "      <td>Less than $40K</td>\n",
       "      <td>Blue</td>\n",
       "      <td>36</td>\n",
       "      <td>5</td>\n",
       "      <td>3</td>\n",
       "      <td>4</td>\n",
       "      <td>5409.0</td>\n",
       "      <td>0</td>\n",
       "      <td>5409.0</td>\n",
       "      <td>0.819</td>\n",
       "      <td>10291</td>\n",
       "      <td>60</td>\n",
       "      <td>0.818</td>\n",
       "      <td>0.000</td>\n",
       "    </tr>\n",
       "    <tr>\n",
       "      <th>10126</th>\n",
       "      <td>1</td>\n",
       "      <td>43</td>\n",
       "      <td>F</td>\n",
       "      <td>2</td>\n",
       "      <td>Graduate</td>\n",
       "      <td>Married</td>\n",
       "      <td>Less than $40K</td>\n",
       "      <td>Silver</td>\n",
       "      <td>25</td>\n",
       "      <td>6</td>\n",
       "      <td>2</td>\n",
       "      <td>4</td>\n",
       "      <td>10388.0</td>\n",
       "      <td>1961</td>\n",
       "      <td>8427.0</td>\n",
       "      <td>0.703</td>\n",
       "      <td>10294</td>\n",
       "      <td>61</td>\n",
       "      <td>0.649</td>\n",
       "      <td>0.189</td>\n",
       "    </tr>\n",
       "  </tbody>\n",
       "</table>\n",
       "<p>7081 rows × 20 columns</p>\n",
       "</div>"
      ],
      "text/plain": [
       "      Attrition_Flag  Customer_Age Gender  Dependent_count Education_Level  \\\n",
       "0                  0            45      M                3     High School   \n",
       "1                  0            49      F                5        Graduate   \n",
       "2                  0            51      M                3        Graduate   \n",
       "4                  0            40      M                3      Uneducated   \n",
       "5                  0            44      M                2        Graduate   \n",
       "...              ...           ...    ...              ...             ...   \n",
       "10120              0            54      M                1     High School   \n",
       "10121              0            56      F                1        Graduate   \n",
       "10122              0            50      M                2        Graduate   \n",
       "10124              1            44      F                1     High School   \n",
       "10126              1            43      F                2        Graduate   \n",
       "\n",
       "      Marital_Status Income_Category Card_Category  Months_on_book  \\\n",
       "0            Married     $60K - $80K          Blue              39   \n",
       "1             Single  Less than $40K          Blue              44   \n",
       "2            Married    $80K - $120K          Blue              36   \n",
       "4            Married     $60K - $80K          Blue              21   \n",
       "5            Married     $40K - $60K          Blue              36   \n",
       "...              ...             ...           ...             ...   \n",
       "10120         Single     $60K - $80K          Blue              34   \n",
       "10121         Single  Less than $40K          Blue              50   \n",
       "10122         Single     $40K - $60K          Blue              40   \n",
       "10124        Married  Less than $40K          Blue              36   \n",
       "10126        Married  Less than $40K        Silver              25   \n",
       "\n",
       "       Total_Relationship_Count  Months_Inactive_12_mon  \\\n",
       "0                             5                       1   \n",
       "1                             6                       1   \n",
       "2                             4                       1   \n",
       "4                             5                       1   \n",
       "5                             3                       1   \n",
       "...                         ...                     ...   \n",
       "10120                         5                       2   \n",
       "10121                         4                       1   \n",
       "10122                         3                       2   \n",
       "10124                         5                       3   \n",
       "10126                         6                       2   \n",
       "\n",
       "       Contacts_Count_12_mon  Credit_Limit  Total_Revolving_Bal  \\\n",
       "0                          3       12691.0                  777   \n",
       "1                          2        8256.0                  864   \n",
       "2                          0        3418.0                    0   \n",
       "4                          0        4716.0                    0   \n",
       "5                          2        4010.0                 1247   \n",
       "...                      ...           ...                  ...   \n",
       "10120                      0       13940.0                 2109   \n",
       "10121                      4        3688.0                  606   \n",
       "10122                      3        4003.0                 1851   \n",
       "10124                      4        5409.0                    0   \n",
       "10126                      4       10388.0                 1961   \n",
       "\n",
       "       Avg_Open_To_Buy  Total_Amt_Chng_Q4_Q1  Total_Trans_Amt  Total_Trans_Ct  \\\n",
       "0              11914.0                 1.335             1144              42   \n",
       "1               7392.0                 1.541             1291              33   \n",
       "2               3418.0                 2.594             1887              20   \n",
       "4               4716.0                 2.175              816              28   \n",
       "5               2763.0                 1.376             1088              24   \n",
       "...                ...                   ...              ...             ...   \n",
       "10120          11831.0                 0.660            15577             114   \n",
       "10121           3082.0                 0.570            14596             120   \n",
       "10122           2152.0                 0.703            15476             117   \n",
       "10124           5409.0                 0.819            10291              60   \n",
       "10126           8427.0                 0.703            10294              61   \n",
       "\n",
       "       Total_Ct_Chng_Q4_Q1  Avg_Utilization_Ratio  \n",
       "0                    1.625                  0.061  \n",
       "1                    3.714                  0.105  \n",
       "2                    2.333                  0.000  \n",
       "4                    2.500                  0.000  \n",
       "5                    0.846                  0.311  \n",
       "...                    ...                    ...  \n",
       "10120                0.754                  0.151  \n",
       "10121                0.791                  0.164  \n",
       "10122                0.857                  0.462  \n",
       "10124                0.818                  0.000  \n",
       "10126                0.649                  0.189  \n",
       "\n",
       "[7081 rows x 20 columns]"
      ]
     },
     "execution_count": 6,
     "metadata": {},
     "output_type": "execute_result"
    }
   ],
   "source": [
    "df"
   ]
  },
  {
   "cell_type": "code",
   "execution_count": 7,
   "metadata": {},
   "outputs": [],
   "source": [
    "X = pd.get_dummies(df, columns=['Gender', 'Education_Level', 'Marital_Status', 'Income_Category', 'Card_Category'], drop_first=True)\n",
    "X = X.drop(['Attrition_Flag'],axis=1)"
   ]
  },
  {
   "cell_type": "code",
   "execution_count": 8,
   "metadata": {
    "scrolled": true
   },
   "outputs": [
    {
     "name": "stderr",
     "output_type": "stream",
     "text": [
      "/home/adam_s/um/moje_srod/lib/python3.8/site-packages/statsmodels/tsa/tsatools.py:142: FutureWarning: In a future version of pandas all arguments of concat except for the argument 'objs' will be keyword-only\n",
      "  x = pd.concat(x[::order], 1)\n"
     ]
    }
   ],
   "source": [
    "X_logreg = sm.add_constant(X)"
   ]
  },
  {
   "cell_type": "code",
   "execution_count": 9,
   "metadata": {
    "scrolled": true
   },
   "outputs": [
    {
     "data": {
      "text/plain": [
       "Index(['Customer_Age', 'Dependent_count', 'Months_on_book',\n",
       "       'Total_Relationship_Count', 'Months_Inactive_12_mon',\n",
       "       'Contacts_Count_12_mon', 'Credit_Limit', 'Total_Revolving_Bal',\n",
       "       'Avg_Open_To_Buy', 'Total_Amt_Chng_Q4_Q1', 'Total_Trans_Amt',\n",
       "       'Total_Trans_Ct', 'Total_Ct_Chng_Q4_Q1', 'Avg_Utilization_Ratio',\n",
       "       'Gender_M', 'Education_Level_Doctorate', 'Education_Level_Graduate',\n",
       "       'Education_Level_High School', 'Education_Level_Post-Graduate',\n",
       "       'Education_Level_Uneducated', 'Marital_Status_Married',\n",
       "       'Marital_Status_Single', 'Income_Category_$40K - $60K',\n",
       "       'Income_Category_$60K - $80K', 'Income_Category_$80K - $120K',\n",
       "       'Income_Category_Less than $40K', 'Card_Category_Gold',\n",
       "       'Card_Category_Platinum', 'Card_Category_Silver'],\n",
       "      dtype='object')"
      ]
     },
     "execution_count": 9,
     "metadata": {},
     "output_type": "execute_result"
    }
   ],
   "source": [
    "X.columns"
   ]
  },
  {
   "cell_type": "code",
   "execution_count": 10,
   "metadata": {
    "scrolled": true
   },
   "outputs": [
    {
     "data": {
      "text/html": [
       "<div>\n",
       "<style scoped>\n",
       "    .dataframe tbody tr th:only-of-type {\n",
       "        vertical-align: middle;\n",
       "    }\n",
       "\n",
       "    .dataframe tbody tr th {\n",
       "        vertical-align: top;\n",
       "    }\n",
       "\n",
       "    .dataframe thead th {\n",
       "        text-align: right;\n",
       "    }\n",
       "</style>\n",
       "<table border=\"1\" class=\"dataframe\">\n",
       "  <thead>\n",
       "    <tr style=\"text-align: right;\">\n",
       "      <th></th>\n",
       "      <th>const</th>\n",
       "      <th>Customer_Age</th>\n",
       "      <th>Dependent_count</th>\n",
       "      <th>Months_on_book</th>\n",
       "      <th>Total_Relationship_Count</th>\n",
       "      <th>Months_Inactive_12_mon</th>\n",
       "      <th>Contacts_Count_12_mon</th>\n",
       "      <th>Credit_Limit</th>\n",
       "      <th>Total_Revolving_Bal</th>\n",
       "      <th>Avg_Open_To_Buy</th>\n",
       "      <th>...</th>\n",
       "      <th>Education_Level_Uneducated</th>\n",
       "      <th>Marital_Status_Married</th>\n",
       "      <th>Marital_Status_Single</th>\n",
       "      <th>Income_Category_$40K - $60K</th>\n",
       "      <th>Income_Category_$60K - $80K</th>\n",
       "      <th>Income_Category_$80K - $120K</th>\n",
       "      <th>Income_Category_Less than $40K</th>\n",
       "      <th>Card_Category_Gold</th>\n",
       "      <th>Card_Category_Platinum</th>\n",
       "      <th>Card_Category_Silver</th>\n",
       "    </tr>\n",
       "  </thead>\n",
       "  <tbody>\n",
       "    <tr>\n",
       "      <th>count</th>\n",
       "      <td>7081.0</td>\n",
       "      <td>7081.000000</td>\n",
       "      <td>7081.000000</td>\n",
       "      <td>7081.000000</td>\n",
       "      <td>7081.000000</td>\n",
       "      <td>7081.000000</td>\n",
       "      <td>7081.000000</td>\n",
       "      <td>7081.000000</td>\n",
       "      <td>7081.000000</td>\n",
       "      <td>7081.000000</td>\n",
       "      <td>...</td>\n",
       "      <td>7081.000000</td>\n",
       "      <td>7081.000000</td>\n",
       "      <td>7081.000000</td>\n",
       "      <td>7081.000000</td>\n",
       "      <td>7081.000000</td>\n",
       "      <td>7081.00000</td>\n",
       "      <td>7081.000000</td>\n",
       "      <td>7081.000000</td>\n",
       "      <td>7081.000000</td>\n",
       "      <td>7081.000000</td>\n",
       "    </tr>\n",
       "    <tr>\n",
       "      <th>mean</th>\n",
       "      <td>1.0</td>\n",
       "      <td>46.347691</td>\n",
       "      <td>2.337805</td>\n",
       "      <td>35.981359</td>\n",
       "      <td>3.819376</td>\n",
       "      <td>2.342607</td>\n",
       "      <td>2.454456</td>\n",
       "      <td>8492.773831</td>\n",
       "      <td>1167.501624</td>\n",
       "      <td>7325.272207</td>\n",
       "      <td>...</td>\n",
       "      <td>0.170032</td>\n",
       "      <td>0.503319</td>\n",
       "      <td>0.416325</td>\n",
       "      <td>0.199407</td>\n",
       "      <td>0.155769</td>\n",
       "      <td>0.16975</td>\n",
       "      <td>0.394295</td>\n",
       "      <td>0.011439</td>\n",
       "      <td>0.001553</td>\n",
       "      <td>0.055218</td>\n",
       "    </tr>\n",
       "    <tr>\n",
       "      <th>std</th>\n",
       "      <td>0.0</td>\n",
       "      <td>8.041225</td>\n",
       "      <td>1.291649</td>\n",
       "      <td>8.002609</td>\n",
       "      <td>1.544444</td>\n",
       "      <td>0.995104</td>\n",
       "      <td>1.104917</td>\n",
       "      <td>9126.072520</td>\n",
       "      <td>812.315606</td>\n",
       "      <td>9131.217585</td>\n",
       "      <td>...</td>\n",
       "      <td>0.375688</td>\n",
       "      <td>0.500024</td>\n",
       "      <td>0.492984</td>\n",
       "      <td>0.399583</td>\n",
       "      <td>0.362662</td>\n",
       "      <td>0.37544</td>\n",
       "      <td>0.488733</td>\n",
       "      <td>0.106348</td>\n",
       "      <td>0.039386</td>\n",
       "      <td>0.228422</td>\n",
       "    </tr>\n",
       "    <tr>\n",
       "      <th>min</th>\n",
       "      <td>1.0</td>\n",
       "      <td>26.000000</td>\n",
       "      <td>0.000000</td>\n",
       "      <td>13.000000</td>\n",
       "      <td>1.000000</td>\n",
       "      <td>0.000000</td>\n",
       "      <td>0.000000</td>\n",
       "      <td>1438.300000</td>\n",
       "      <td>0.000000</td>\n",
       "      <td>3.000000</td>\n",
       "      <td>...</td>\n",
       "      <td>0.000000</td>\n",
       "      <td>0.000000</td>\n",
       "      <td>0.000000</td>\n",
       "      <td>0.000000</td>\n",
       "      <td>0.000000</td>\n",
       "      <td>0.00000</td>\n",
       "      <td>0.000000</td>\n",
       "      <td>0.000000</td>\n",
       "      <td>0.000000</td>\n",
       "      <td>0.000000</td>\n",
       "    </tr>\n",
       "    <tr>\n",
       "      <th>25%</th>\n",
       "      <td>1.0</td>\n",
       "      <td>41.000000</td>\n",
       "      <td>1.000000</td>\n",
       "      <td>31.000000</td>\n",
       "      <td>3.000000</td>\n",
       "      <td>2.000000</td>\n",
       "      <td>2.000000</td>\n",
       "      <td>2498.000000</td>\n",
       "      <td>463.000000</td>\n",
       "      <td>1248.000000</td>\n",
       "      <td>...</td>\n",
       "      <td>0.000000</td>\n",
       "      <td>0.000000</td>\n",
       "      <td>0.000000</td>\n",
       "      <td>0.000000</td>\n",
       "      <td>0.000000</td>\n",
       "      <td>0.00000</td>\n",
       "      <td>0.000000</td>\n",
       "      <td>0.000000</td>\n",
       "      <td>0.000000</td>\n",
       "      <td>0.000000</td>\n",
       "    </tr>\n",
       "    <tr>\n",
       "      <th>50%</th>\n",
       "      <td>1.0</td>\n",
       "      <td>46.000000</td>\n",
       "      <td>2.000000</td>\n",
       "      <td>36.000000</td>\n",
       "      <td>4.000000</td>\n",
       "      <td>2.000000</td>\n",
       "      <td>2.000000</td>\n",
       "      <td>4287.000000</td>\n",
       "      <td>1282.000000</td>\n",
       "      <td>3250.000000</td>\n",
       "      <td>...</td>\n",
       "      <td>0.000000</td>\n",
       "      <td>1.000000</td>\n",
       "      <td>0.000000</td>\n",
       "      <td>0.000000</td>\n",
       "      <td>0.000000</td>\n",
       "      <td>0.00000</td>\n",
       "      <td>0.000000</td>\n",
       "      <td>0.000000</td>\n",
       "      <td>0.000000</td>\n",
       "      <td>0.000000</td>\n",
       "    </tr>\n",
       "    <tr>\n",
       "      <th>75%</th>\n",
       "      <td>1.0</td>\n",
       "      <td>52.000000</td>\n",
       "      <td>3.000000</td>\n",
       "      <td>40.000000</td>\n",
       "      <td>5.000000</td>\n",
       "      <td>3.000000</td>\n",
       "      <td>3.000000</td>\n",
       "      <td>10729.000000</td>\n",
       "      <td>1781.000000</td>\n",
       "      <td>9491.000000</td>\n",
       "      <td>...</td>\n",
       "      <td>0.000000</td>\n",
       "      <td>1.000000</td>\n",
       "      <td>1.000000</td>\n",
       "      <td>0.000000</td>\n",
       "      <td>0.000000</td>\n",
       "      <td>0.00000</td>\n",
       "      <td>1.000000</td>\n",
       "      <td>0.000000</td>\n",
       "      <td>0.000000</td>\n",
       "      <td>0.000000</td>\n",
       "    </tr>\n",
       "    <tr>\n",
       "      <th>max</th>\n",
       "      <td>1.0</td>\n",
       "      <td>73.000000</td>\n",
       "      <td>5.000000</td>\n",
       "      <td>56.000000</td>\n",
       "      <td>6.000000</td>\n",
       "      <td>6.000000</td>\n",
       "      <td>6.000000</td>\n",
       "      <td>34516.000000</td>\n",
       "      <td>2517.000000</td>\n",
       "      <td>34516.000000</td>\n",
       "      <td>...</td>\n",
       "      <td>1.000000</td>\n",
       "      <td>1.000000</td>\n",
       "      <td>1.000000</td>\n",
       "      <td>1.000000</td>\n",
       "      <td>1.000000</td>\n",
       "      <td>1.00000</td>\n",
       "      <td>1.000000</td>\n",
       "      <td>1.000000</td>\n",
       "      <td>1.000000</td>\n",
       "      <td>1.000000</td>\n",
       "    </tr>\n",
       "  </tbody>\n",
       "</table>\n",
       "<p>8 rows × 30 columns</p>\n",
       "</div>"
      ],
      "text/plain": [
       "        const  Customer_Age  Dependent_count  Months_on_book  \\\n",
       "count  7081.0   7081.000000      7081.000000     7081.000000   \n",
       "mean      1.0     46.347691         2.337805       35.981359   \n",
       "std       0.0      8.041225         1.291649        8.002609   \n",
       "min       1.0     26.000000         0.000000       13.000000   \n",
       "25%       1.0     41.000000         1.000000       31.000000   \n",
       "50%       1.0     46.000000         2.000000       36.000000   \n",
       "75%       1.0     52.000000         3.000000       40.000000   \n",
       "max       1.0     73.000000         5.000000       56.000000   \n",
       "\n",
       "       Total_Relationship_Count  Months_Inactive_12_mon  \\\n",
       "count               7081.000000             7081.000000   \n",
       "mean                   3.819376                2.342607   \n",
       "std                    1.544444                0.995104   \n",
       "min                    1.000000                0.000000   \n",
       "25%                    3.000000                2.000000   \n",
       "50%                    4.000000                2.000000   \n",
       "75%                    5.000000                3.000000   \n",
       "max                    6.000000                6.000000   \n",
       "\n",
       "       Contacts_Count_12_mon  Credit_Limit  Total_Revolving_Bal  \\\n",
       "count            7081.000000   7081.000000          7081.000000   \n",
       "mean                2.454456   8492.773831          1167.501624   \n",
       "std                 1.104917   9126.072520           812.315606   \n",
       "min                 0.000000   1438.300000             0.000000   \n",
       "25%                 2.000000   2498.000000           463.000000   \n",
       "50%                 2.000000   4287.000000          1282.000000   \n",
       "75%                 3.000000  10729.000000          1781.000000   \n",
       "max                 6.000000  34516.000000          2517.000000   \n",
       "\n",
       "       Avg_Open_To_Buy  ...  Education_Level_Uneducated  \\\n",
       "count      7081.000000  ...                 7081.000000   \n",
       "mean       7325.272207  ...                    0.170032   \n",
       "std        9131.217585  ...                    0.375688   \n",
       "min           3.000000  ...                    0.000000   \n",
       "25%        1248.000000  ...                    0.000000   \n",
       "50%        3250.000000  ...                    0.000000   \n",
       "75%        9491.000000  ...                    0.000000   \n",
       "max       34516.000000  ...                    1.000000   \n",
       "\n",
       "       Marital_Status_Married  Marital_Status_Single  \\\n",
       "count             7081.000000            7081.000000   \n",
       "mean                 0.503319               0.416325   \n",
       "std                  0.500024               0.492984   \n",
       "min                  0.000000               0.000000   \n",
       "25%                  0.000000               0.000000   \n",
       "50%                  1.000000               0.000000   \n",
       "75%                  1.000000               1.000000   \n",
       "max                  1.000000               1.000000   \n",
       "\n",
       "       Income_Category_$40K - $60K  Income_Category_$60K - $80K  \\\n",
       "count                  7081.000000                  7081.000000   \n",
       "mean                      0.199407                     0.155769   \n",
       "std                       0.399583                     0.362662   \n",
       "min                       0.000000                     0.000000   \n",
       "25%                       0.000000                     0.000000   \n",
       "50%                       0.000000                     0.000000   \n",
       "75%                       0.000000                     0.000000   \n",
       "max                       1.000000                     1.000000   \n",
       "\n",
       "       Income_Category_$80K - $120K  Income_Category_Less than $40K  \\\n",
       "count                    7081.00000                     7081.000000   \n",
       "mean                        0.16975                        0.394295   \n",
       "std                         0.37544                        0.488733   \n",
       "min                         0.00000                        0.000000   \n",
       "25%                         0.00000                        0.000000   \n",
       "50%                         0.00000                        0.000000   \n",
       "75%                         0.00000                        1.000000   \n",
       "max                         1.00000                        1.000000   \n",
       "\n",
       "       Card_Category_Gold  Card_Category_Platinum  Card_Category_Silver  \n",
       "count         7081.000000             7081.000000           7081.000000  \n",
       "mean             0.011439                0.001553              0.055218  \n",
       "std              0.106348                0.039386              0.228422  \n",
       "min              0.000000                0.000000              0.000000  \n",
       "25%              0.000000                0.000000              0.000000  \n",
       "50%              0.000000                0.000000              0.000000  \n",
       "75%              0.000000                0.000000              0.000000  \n",
       "max              1.000000                1.000000              1.000000  \n",
       "\n",
       "[8 rows x 30 columns]"
      ]
     },
     "execution_count": 10,
     "metadata": {},
     "output_type": "execute_result"
    }
   ],
   "source": [
    "X_logreg.describe()"
   ]
  },
  {
   "cell_type": "code",
   "execution_count": 11,
   "metadata": {},
   "outputs": [],
   "source": [
    "y = df['Attrition_Flag']"
   ]
  },
  {
   "cell_type": "code",
   "execution_count": 58,
   "metadata": {},
   "outputs": [],
   "source": [
    "X_train_logreg, X_test_logreg, y_train_logreg, y_test_logreg = train_test_split(X_logreg, y, random_state=42)"
   ]
  },
  {
   "cell_type": "code",
   "execution_count": 14,
   "metadata": {},
   "outputs": [
    {
     "data": {
      "text/plain": [
       "count    5310.000000\n",
       "mean        0.158569\n",
       "std         0.365308\n",
       "min         0.000000\n",
       "25%         0.000000\n",
       "50%         0.000000\n",
       "75%         0.000000\n",
       "max         1.000000\n",
       "Name: Attrition_Flag, dtype: float64"
      ]
     },
     "execution_count": 14,
     "metadata": {},
     "output_type": "execute_result"
    }
   ],
   "source": [
    "y_train_logreg.astype(float).describe()"
   ]
  },
  {
   "cell_type": "code",
   "execution_count": 15,
   "metadata": {},
   "outputs": [
    {
     "data": {
      "text/plain": [
       "(5310, 30)"
      ]
     },
     "execution_count": 15,
     "metadata": {},
     "output_type": "execute_result"
    }
   ],
   "source": [
    "X_train_logreg.shape"
   ]
  },
  {
   "cell_type": "code",
   "execution_count": 16,
   "metadata": {},
   "outputs": [
    {
     "data": {
      "text/plain": [
       "(5310,)"
      ]
     },
     "execution_count": 16,
     "metadata": {},
     "output_type": "execute_result"
    }
   ],
   "source": [
    "y_train_logreg.shape"
   ]
  },
  {
   "cell_type": "code",
   "execution_count": 17,
   "metadata": {},
   "outputs": [
    {
     "name": "stderr",
     "output_type": "stream",
     "text": [
      "/home/adam_s/um/moje_srod/lib/python3.8/site-packages/statsmodels/tsa/tsatools.py:142: FutureWarning: In a future version of pandas all arguments of concat except for the argument 'objs' will be keyword-only\n",
      "  x = pd.concat(x[::order], 1)\n"
     ]
    }
   ],
   "source": [
    "X_1 = X_train_logreg[[\n",
    "    'Customer_Age',\n",
    "    'Dependent_count',\n",
    "    'Months_on_book',\n",
    "    'Total_Relationship_Count',\n",
    "    'Months_Inactive_12_mon',\n",
    "    'Contacts_Count_12_mon',\n",
    "    #'Credit_Limit', \n",
    "    'Total_Revolving_Bal',\n",
    "    'Avg_Open_To_Buy',\n",
    "    'Total_Amt_Chng_Q4_Q1',\n",
    "    'Total_Trans_Amt',\n",
    "    'Total_Trans_Ct',\n",
    "    'Total_Ct_Chng_Q4_Q1',\n",
    "    'Avg_Utilization_Ratio',\n",
    "    'Gender_M',\n",
    "    'Education_Level_High School',\n",
    "    'Education_Level_Graduate',\n",
    "    'Education_Level_Uneducated',\n",
    "    #'Education_Level_College',\n",
    "    'Education_Level_Post-Graduate',\n",
    "    'Education_Level_Doctorate',\n",
    "    'Marital_Status_Married',\n",
    "    'Marital_Status_Single',\n",
    "    #'Marital_Status_Divorced',\n",
    "    'Income_Category_$60K - $80K',\n",
    "    'Income_Category_Less than $40K',\n",
    "    'Income_Category_$80K - $120K',\n",
    "    'Income_Category_$40K - $60K',\n",
    "    #'Income_Category_$120K +',\n",
    "    'Card_Category_Gold',\n",
    "    'Card_Category_Silver',\n",
    "    'Card_Category_Platinum'\n",
    "               ]]\n",
    "X_1 = sm.add_constant(X_1)"
   ]
  },
  {
   "cell_type": "code",
   "execution_count": 18,
   "metadata": {},
   "outputs": [
    {
     "data": {
      "text/html": [
       "<div>\n",
       "<style scoped>\n",
       "    .dataframe tbody tr th:only-of-type {\n",
       "        vertical-align: middle;\n",
       "    }\n",
       "\n",
       "    .dataframe tbody tr th {\n",
       "        vertical-align: top;\n",
       "    }\n",
       "\n",
       "    .dataframe thead th {\n",
       "        text-align: right;\n",
       "    }\n",
       "</style>\n",
       "<table border=\"1\" class=\"dataframe\">\n",
       "  <thead>\n",
       "    <tr style=\"text-align: right;\">\n",
       "      <th></th>\n",
       "      <th>const</th>\n",
       "      <th>Customer_Age</th>\n",
       "      <th>Dependent_count</th>\n",
       "      <th>Months_on_book</th>\n",
       "      <th>Total_Relationship_Count</th>\n",
       "      <th>Months_Inactive_12_mon</th>\n",
       "      <th>Contacts_Count_12_mon</th>\n",
       "      <th>Total_Revolving_Bal</th>\n",
       "      <th>Avg_Open_To_Buy</th>\n",
       "      <th>Total_Amt_Chng_Q4_Q1</th>\n",
       "      <th>...</th>\n",
       "      <th>Education_Level_Doctorate</th>\n",
       "      <th>Marital_Status_Married</th>\n",
       "      <th>Marital_Status_Single</th>\n",
       "      <th>Income_Category_$60K - $80K</th>\n",
       "      <th>Income_Category_Less than $40K</th>\n",
       "      <th>Income_Category_$80K - $120K</th>\n",
       "      <th>Income_Category_$40K - $60K</th>\n",
       "      <th>Card_Category_Gold</th>\n",
       "      <th>Card_Category_Silver</th>\n",
       "      <th>Card_Category_Platinum</th>\n",
       "    </tr>\n",
       "  </thead>\n",
       "  <tbody>\n",
       "    <tr>\n",
       "      <th>8101</th>\n",
       "      <td>1.0</td>\n",
       "      <td>46</td>\n",
       "      <td>4</td>\n",
       "      <td>36</td>\n",
       "      <td>2</td>\n",
       "      <td>1</td>\n",
       "      <td>1</td>\n",
       "      <td>1043</td>\n",
       "      <td>1128.0</td>\n",
       "      <td>0.700</td>\n",
       "      <td>...</td>\n",
       "      <td>0</td>\n",
       "      <td>1</td>\n",
       "      <td>0</td>\n",
       "      <td>0</td>\n",
       "      <td>0</td>\n",
       "      <td>1</td>\n",
       "      <td>0</td>\n",
       "      <td>0</td>\n",
       "      <td>0</td>\n",
       "      <td>0</td>\n",
       "    </tr>\n",
       "    <tr>\n",
       "      <th>8916</th>\n",
       "      <td>1.0</td>\n",
       "      <td>51</td>\n",
       "      <td>1</td>\n",
       "      <td>37</td>\n",
       "      <td>1</td>\n",
       "      <td>3</td>\n",
       "      <td>2</td>\n",
       "      <td>2416</td>\n",
       "      <td>24902.0</td>\n",
       "      <td>0.917</td>\n",
       "      <td>...</td>\n",
       "      <td>0</td>\n",
       "      <td>0</td>\n",
       "      <td>1</td>\n",
       "      <td>0</td>\n",
       "      <td>0</td>\n",
       "      <td>1</td>\n",
       "      <td>0</td>\n",
       "      <td>0</td>\n",
       "      <td>0</td>\n",
       "      <td>0</td>\n",
       "    </tr>\n",
       "    <tr>\n",
       "      <th>7945</th>\n",
       "      <td>1.0</td>\n",
       "      <td>45</td>\n",
       "      <td>4</td>\n",
       "      <td>36</td>\n",
       "      <td>1</td>\n",
       "      <td>3</td>\n",
       "      <td>3</td>\n",
       "      <td>0</td>\n",
       "      <td>4688.0</td>\n",
       "      <td>0.593</td>\n",
       "      <td>...</td>\n",
       "      <td>0</td>\n",
       "      <td>0</td>\n",
       "      <td>1</td>\n",
       "      <td>0</td>\n",
       "      <td>0</td>\n",
       "      <td>0</td>\n",
       "      <td>1</td>\n",
       "      <td>0</td>\n",
       "      <td>0</td>\n",
       "      <td>0</td>\n",
       "    </tr>\n",
       "    <tr>\n",
       "      <th>10061</th>\n",
       "      <td>1.0</td>\n",
       "      <td>44</td>\n",
       "      <td>2</td>\n",
       "      <td>31</td>\n",
       "      <td>3</td>\n",
       "      <td>2</td>\n",
       "      <td>3</td>\n",
       "      <td>2028</td>\n",
       "      <td>2154.0</td>\n",
       "      <td>0.658</td>\n",
       "      <td>...</td>\n",
       "      <td>0</td>\n",
       "      <td>0</td>\n",
       "      <td>1</td>\n",
       "      <td>0</td>\n",
       "      <td>1</td>\n",
       "      <td>0</td>\n",
       "      <td>0</td>\n",
       "      <td>0</td>\n",
       "      <td>0</td>\n",
       "      <td>0</td>\n",
       "    </tr>\n",
       "    <tr>\n",
       "      <th>4743</th>\n",
       "      <td>1.0</td>\n",
       "      <td>48</td>\n",
       "      <td>3</td>\n",
       "      <td>42</td>\n",
       "      <td>3</td>\n",
       "      <td>2</td>\n",
       "      <td>4</td>\n",
       "      <td>0</td>\n",
       "      <td>19075.0</td>\n",
       "      <td>0.807</td>\n",
       "      <td>...</td>\n",
       "      <td>0</td>\n",
       "      <td>0</td>\n",
       "      <td>1</td>\n",
       "      <td>1</td>\n",
       "      <td>0</td>\n",
       "      <td>0</td>\n",
       "      <td>0</td>\n",
       "      <td>0</td>\n",
       "      <td>0</td>\n",
       "      <td>0</td>\n",
       "    </tr>\n",
       "    <tr>\n",
       "      <th>...</th>\n",
       "      <td>...</td>\n",
       "      <td>...</td>\n",
       "      <td>...</td>\n",
       "      <td>...</td>\n",
       "      <td>...</td>\n",
       "      <td>...</td>\n",
       "      <td>...</td>\n",
       "      <td>...</td>\n",
       "      <td>...</td>\n",
       "      <td>...</td>\n",
       "      <td>...</td>\n",
       "      <td>...</td>\n",
       "      <td>...</td>\n",
       "      <td>...</td>\n",
       "      <td>...</td>\n",
       "      <td>...</td>\n",
       "      <td>...</td>\n",
       "      <td>...</td>\n",
       "      <td>...</td>\n",
       "      <td>...</td>\n",
       "      <td>...</td>\n",
       "    </tr>\n",
       "    <tr>\n",
       "      <th>5242</th>\n",
       "      <td>1.0</td>\n",
       "      <td>49</td>\n",
       "      <td>3</td>\n",
       "      <td>36</td>\n",
       "      <td>5</td>\n",
       "      <td>3</td>\n",
       "      <td>4</td>\n",
       "      <td>0</td>\n",
       "      <td>1438.3</td>\n",
       "      <td>0.929</td>\n",
       "      <td>...</td>\n",
       "      <td>0</td>\n",
       "      <td>1</td>\n",
       "      <td>0</td>\n",
       "      <td>0</td>\n",
       "      <td>1</td>\n",
       "      <td>0</td>\n",
       "      <td>0</td>\n",
       "      <td>0</td>\n",
       "      <td>0</td>\n",
       "      <td>0</td>\n",
       "    </tr>\n",
       "    <tr>\n",
       "      <th>7365</th>\n",
       "      <td>1.0</td>\n",
       "      <td>44</td>\n",
       "      <td>5</td>\n",
       "      <td>30</td>\n",
       "      <td>3</td>\n",
       "      <td>3</td>\n",
       "      <td>1</td>\n",
       "      <td>1726</td>\n",
       "      <td>983.0</td>\n",
       "      <td>0.698</td>\n",
       "      <td>...</td>\n",
       "      <td>0</td>\n",
       "      <td>0</td>\n",
       "      <td>1</td>\n",
       "      <td>0</td>\n",
       "      <td>1</td>\n",
       "      <td>0</td>\n",
       "      <td>0</td>\n",
       "      <td>0</td>\n",
       "      <td>0</td>\n",
       "      <td>0</td>\n",
       "    </tr>\n",
       "    <tr>\n",
       "      <th>7413</th>\n",
       "      <td>1.0</td>\n",
       "      <td>50</td>\n",
       "      <td>1</td>\n",
       "      <td>36</td>\n",
       "      <td>4</td>\n",
       "      <td>3</td>\n",
       "      <td>2</td>\n",
       "      <td>0</td>\n",
       "      <td>2317.0</td>\n",
       "      <td>0.734</td>\n",
       "      <td>...</td>\n",
       "      <td>0</td>\n",
       "      <td>0</td>\n",
       "      <td>1</td>\n",
       "      <td>1</td>\n",
       "      <td>0</td>\n",
       "      <td>0</td>\n",
       "      <td>0</td>\n",
       "      <td>0</td>\n",
       "      <td>0</td>\n",
       "      <td>0</td>\n",
       "    </tr>\n",
       "    <tr>\n",
       "      <th>7681</th>\n",
       "      <td>1.0</td>\n",
       "      <td>49</td>\n",
       "      <td>4</td>\n",
       "      <td>35</td>\n",
       "      <td>5</td>\n",
       "      <td>3</td>\n",
       "      <td>2</td>\n",
       "      <td>2133</td>\n",
       "      <td>905.0</td>\n",
       "      <td>0.689</td>\n",
       "      <td>...</td>\n",
       "      <td>0</td>\n",
       "      <td>1</td>\n",
       "      <td>0</td>\n",
       "      <td>0</td>\n",
       "      <td>1</td>\n",
       "      <td>0</td>\n",
       "      <td>0</td>\n",
       "      <td>0</td>\n",
       "      <td>0</td>\n",
       "      <td>0</td>\n",
       "    </tr>\n",
       "    <tr>\n",
       "      <th>1158</th>\n",
       "      <td>1.0</td>\n",
       "      <td>26</td>\n",
       "      <td>0</td>\n",
       "      <td>15</td>\n",
       "      <td>5</td>\n",
       "      <td>1</td>\n",
       "      <td>2</td>\n",
       "      <td>1720</td>\n",
       "      <td>6547.0</td>\n",
       "      <td>0.633</td>\n",
       "      <td>...</td>\n",
       "      <td>0</td>\n",
       "      <td>0</td>\n",
       "      <td>1</td>\n",
       "      <td>1</td>\n",
       "      <td>0</td>\n",
       "      <td>0</td>\n",
       "      <td>0</td>\n",
       "      <td>0</td>\n",
       "      <td>0</td>\n",
       "      <td>0</td>\n",
       "    </tr>\n",
       "  </tbody>\n",
       "</table>\n",
       "<p>5310 rows × 29 columns</p>\n",
       "</div>"
      ],
      "text/plain": [
       "       const  Customer_Age  Dependent_count  Months_on_book  \\\n",
       "8101     1.0            46                4              36   \n",
       "8916     1.0            51                1              37   \n",
       "7945     1.0            45                4              36   \n",
       "10061    1.0            44                2              31   \n",
       "4743     1.0            48                3              42   \n",
       "...      ...           ...              ...             ...   \n",
       "5242     1.0            49                3              36   \n",
       "7365     1.0            44                5              30   \n",
       "7413     1.0            50                1              36   \n",
       "7681     1.0            49                4              35   \n",
       "1158     1.0            26                0              15   \n",
       "\n",
       "       Total_Relationship_Count  Months_Inactive_12_mon  \\\n",
       "8101                          2                       1   \n",
       "8916                          1                       3   \n",
       "7945                          1                       3   \n",
       "10061                         3                       2   \n",
       "4743                          3                       2   \n",
       "...                         ...                     ...   \n",
       "5242                          5                       3   \n",
       "7365                          3                       3   \n",
       "7413                          4                       3   \n",
       "7681                          5                       3   \n",
       "1158                          5                       1   \n",
       "\n",
       "       Contacts_Count_12_mon  Total_Revolving_Bal  Avg_Open_To_Buy  \\\n",
       "8101                       1                 1043           1128.0   \n",
       "8916                       2                 2416          24902.0   \n",
       "7945                       3                    0           4688.0   \n",
       "10061                      3                 2028           2154.0   \n",
       "4743                       4                    0          19075.0   \n",
       "...                      ...                  ...              ...   \n",
       "5242                       4                    0           1438.3   \n",
       "7365                       1                 1726            983.0   \n",
       "7413                       2                    0           2317.0   \n",
       "7681                       2                 2133            905.0   \n",
       "1158                       2                 1720           6547.0   \n",
       "\n",
       "       Total_Amt_Chng_Q4_Q1  ...  Education_Level_Doctorate  \\\n",
       "8101                  0.700  ...                          0   \n",
       "8916                  0.917  ...                          0   \n",
       "7945                  0.593  ...                          0   \n",
       "10061                 0.658  ...                          0   \n",
       "4743                  0.807  ...                          0   \n",
       "...                     ...  ...                        ...   \n",
       "5242                  0.929  ...                          0   \n",
       "7365                  0.698  ...                          0   \n",
       "7413                  0.734  ...                          0   \n",
       "7681                  0.689  ...                          0   \n",
       "1158                  0.633  ...                          0   \n",
       "\n",
       "       Marital_Status_Married  Marital_Status_Single  \\\n",
       "8101                        1                      0   \n",
       "8916                        0                      1   \n",
       "7945                        0                      1   \n",
       "10061                       0                      1   \n",
       "4743                        0                      1   \n",
       "...                       ...                    ...   \n",
       "5242                        1                      0   \n",
       "7365                        0                      1   \n",
       "7413                        0                      1   \n",
       "7681                        1                      0   \n",
       "1158                        0                      1   \n",
       "\n",
       "       Income_Category_$60K - $80K  Income_Category_Less than $40K  \\\n",
       "8101                             0                               0   \n",
       "8916                             0                               0   \n",
       "7945                             0                               0   \n",
       "10061                            0                               1   \n",
       "4743                             1                               0   \n",
       "...                            ...                             ...   \n",
       "5242                             0                               1   \n",
       "7365                             0                               1   \n",
       "7413                             1                               0   \n",
       "7681                             0                               1   \n",
       "1158                             1                               0   \n",
       "\n",
       "       Income_Category_$80K - $120K  Income_Category_$40K - $60K  \\\n",
       "8101                              1                            0   \n",
       "8916                              1                            0   \n",
       "7945                              0                            1   \n",
       "10061                             0                            0   \n",
       "4743                              0                            0   \n",
       "...                             ...                          ...   \n",
       "5242                              0                            0   \n",
       "7365                              0                            0   \n",
       "7413                              0                            0   \n",
       "7681                              0                            0   \n",
       "1158                              0                            0   \n",
       "\n",
       "       Card_Category_Gold  Card_Category_Silver  Card_Category_Platinum  \n",
       "8101                    0                     0                       0  \n",
       "8916                    0                     0                       0  \n",
       "7945                    0                     0                       0  \n",
       "10061                   0                     0                       0  \n",
       "4743                    0                     0                       0  \n",
       "...                   ...                   ...                     ...  \n",
       "5242                    0                     0                       0  \n",
       "7365                    0                     0                       0  \n",
       "7413                    0                     0                       0  \n",
       "7681                    0                     0                       0  \n",
       "1158                    0                     0                       0  \n",
       "\n",
       "[5310 rows x 29 columns]"
      ]
     },
     "execution_count": 18,
     "metadata": {},
     "output_type": "execute_result"
    }
   ],
   "source": [
    "X_1"
   ]
  },
  {
   "cell_type": "markdown",
   "metadata": {},
   "source": [
    "Credit_Limit powoduje że macierzy nie da się odwrócić (wyznacznik równy 0). Reszta zmiennych nie sprawia więkrzych problemów. Kwestia teraz zbudowania odpowiedniego modelu + interpretacje + ilorazy szans."
   ]
  },
  {
   "cell_type": "code",
   "execution_count": 19,
   "metadata": {
    "scrolled": false
   },
   "outputs": [
    {
     "name": "stdout",
     "output_type": "stream",
     "text": [
      "Optimization terminated successfully.\n",
      "         Current function value: 0.237683\n",
      "         Iterations 8\n"
     ]
    }
   ],
   "source": [
    "log_reg_1 = sm.Logit(y_train_logreg.astype(float), X_1.astype(float)).fit()"
   ]
  },
  {
   "cell_type": "code",
   "execution_count": 20,
   "metadata": {
    "scrolled": true
   },
   "outputs": [
    {
     "name": "stdout",
     "output_type": "stream",
     "text": [
      "                           Logit Regression Results                           \n",
      "==============================================================================\n",
      "Dep. Variable:         Attrition_Flag   No. Observations:                 5310\n",
      "Model:                          Logit   Df Residuals:                     5281\n",
      "Method:                           MLE   Df Model:                           28\n",
      "Date:                Wed, 09 Feb 2022   Pseudo R-squ.:                  0.4565\n",
      "Time:                        20:41:36   Log-Likelihood:                -1262.1\n",
      "converged:                       True   LL-Null:                       -2322.0\n",
      "Covariance Type:            nonrobust   LLR p-value:                     0.000\n",
      "==================================================================================================\n",
      "                                     coef    std err          z      P>|z|      [0.025      0.975]\n",
      "--------------------------------------------------------------------------------------------------\n",
      "const                              7.2959      0.631     11.567      0.000       6.060       8.532\n",
      "Customer_Age                      -0.0134      0.011     -1.259      0.208      -0.034       0.007\n",
      "Dependent_count                    0.1287      0.041      3.135      0.002       0.048       0.209\n",
      "Months_on_book                    -0.0074      0.011     -0.694      0.488      -0.028       0.013\n",
      "Total_Relationship_Count          -0.4178      0.038    -11.125      0.000      -0.491      -0.344\n",
      "Months_Inactive_12_mon             0.4965      0.053      9.329      0.000       0.392       0.601\n",
      "Contacts_Count_12_mon              0.4861      0.050      9.762      0.000       0.388       0.584\n",
      "Total_Revolving_Bal               -0.0009   9.58e-05     -9.276      0.000      -0.001      -0.001\n",
      "Avg_Open_To_Buy                -2.118e-05   9.48e-06     -2.236      0.025   -3.98e-05   -2.61e-06\n",
      "Total_Amt_Chng_Q4_Q1              -0.5443      0.262     -2.075      0.038      -1.058      -0.030\n",
      "Total_Trans_Amt                    0.0005   3.11e-05     15.715      0.000       0.000       0.001\n",
      "Total_Trans_Ct                    -0.1184      0.005    -23.127      0.000      -0.128      -0.108\n",
      "Total_Ct_Chng_Q4_Q1               -2.6349      0.256    -10.287      0.000      -3.137      -2.133\n",
      "Avg_Utilization_Ratio             -0.3691      0.337     -1.096      0.273      -1.029       0.291\n",
      "Gender_M                          -0.9673      0.194     -4.988      0.000      -1.347      -0.587\n",
      "Education_Level_High School       -0.0894      0.184     -0.486      0.627      -0.450       0.271\n",
      "Education_Level_Graduate          -0.0201      0.171     -0.117      0.907      -0.356       0.316\n",
      "Education_Level_Uneducated        -0.1029      0.196     -0.524      0.600      -0.488       0.282\n",
      "Education_Level_Post-Graduate      0.2137      0.258      0.829      0.407      -0.292       0.719\n",
      "Education_Level_Doctorate          0.5491      0.261      2.104      0.035       0.038       1.061\n",
      "Marital_Status_Married            -0.6714      0.197     -3.413      0.001      -1.057      -0.286\n",
      "Marital_Status_Single             -0.0314      0.197     -0.159      0.873      -0.417       0.355\n",
      "Income_Category_$60K - $80K       -0.4573      0.229     -1.996      0.046      -0.906      -0.008\n",
      "Income_Category_Less than $40K    -0.7770      0.286     -2.719      0.007      -1.337      -0.217\n",
      "Income_Category_$80K - $120K      -0.1197      0.213     -0.563      0.573      -0.536       0.297\n",
      "Income_Category_$40K - $60K       -0.9122      0.264     -3.455      0.001      -1.430      -0.395\n",
      "Card_Category_Gold                 0.8541      0.484      1.766      0.077      -0.094       1.802\n",
      "Card_Category_Silver               0.4521      0.262      1.728      0.084      -0.061       0.965\n",
      "Card_Category_Platinum             1.6954      1.187      1.428      0.153      -0.631       4.022\n",
      "==================================================================================================\n"
     ]
    }
   ],
   "source": [
    "print(log_reg_1.summary())"
   ]
  },
  {
   "cell_type": "code",
   "execution_count": 21,
   "metadata": {
    "scrolled": true
   },
   "outputs": [
    {
     "data": {
      "text/plain": [
       "'Education_Level_High School = Education_Level_Graduate = Education_Level_Uneducated = Education_Level_Post-Graduate = Education_Level_Doctorate'"
      ]
     },
     "execution_count": 21,
     "metadata": {},
     "output_type": "execute_result"
    }
   ],
   "source": [
    "# test łącznej istotności Education_Level\n",
    "\n",
    "x_vars = log_reg_1.summary2().tables[1].index\n",
    "#x_vars\n",
    "wald_str = ' = '.join(list(x_vars[15:20]))\n",
    "wald_str"
   ]
  },
  {
   "cell_type": "code",
   "execution_count": 22,
   "metadata": {},
   "outputs": [
    {
     "data": {
      "text/plain": [
       "<class 'statsmodels.stats.contrast.ContrastResults'>\n",
       "<Wald test (chi2): statistic=[[8.99697749]], p-value=0.061175073835732924, df_denom=4>"
      ]
     },
     "execution_count": 22,
     "metadata": {},
     "output_type": "execute_result"
    }
   ],
   "source": [
    "wald_test = log_reg_1.wald_test(wald_str) # Wald test\n",
    "wald_test"
   ]
  },
  {
   "cell_type": "markdown",
   "metadata": {},
   "source": [
    "Można usunąć zmienne dotyczące wykształcenia, pojedyncze zmienne nie istotne statystycznie, również łączny test to potwierdza (p-value > 0.05)."
   ]
  },
  {
   "cell_type": "markdown",
   "metadata": {},
   "source": [
    "**Pominięcie Education_Level**"
   ]
  },
  {
   "cell_type": "code",
   "execution_count": 23,
   "metadata": {},
   "outputs": [
    {
     "name": "stderr",
     "output_type": "stream",
     "text": [
      "/home/adam_s/um/moje_srod/lib/python3.8/site-packages/statsmodels/tsa/tsatools.py:142: FutureWarning: In a future version of pandas all arguments of concat except for the argument 'objs' will be keyword-only\n",
      "  x = pd.concat(x[::order], 1)\n"
     ]
    }
   ],
   "source": [
    "X_2 = X_train_logreg[[\n",
    "    'Customer_Age',\n",
    "    'Dependent_count',\n",
    "    'Months_on_book',\n",
    "    'Total_Relationship_Count',\n",
    "    'Months_Inactive_12_mon',\n",
    "    'Contacts_Count_12_mon',\n",
    "    #'Credit_Limit', \n",
    "    'Total_Revolving_Bal',\n",
    "    'Avg_Open_To_Buy',\n",
    "    'Total_Amt_Chng_Q4_Q1',\n",
    "    'Total_Trans_Amt',\n",
    "    'Total_Trans_Ct',\n",
    "    'Total_Ct_Chng_Q4_Q1',\n",
    "    'Avg_Utilization_Ratio',\n",
    "    'Gender_M',\n",
    "    #'Education_Level_High School',\n",
    "    #'Education_Level_Graduate',\n",
    "    #'Education_Level_Uneducated',\n",
    "    #'Education_Level_College',\n",
    "    #'Education_Level_Post-Graduate',\n",
    "    #'Education_Level_Doctorate',\n",
    "    'Marital_Status_Married',\n",
    "    'Marital_Status_Single',\n",
    "    #'Marital_Status_Divorced',\n",
    "    'Income_Category_$60K - $80K',\n",
    "    'Income_Category_Less than $40K',\n",
    "    'Income_Category_$80K - $120K',\n",
    "    'Income_Category_$40K - $60K',\n",
    "    #'Income_Category_$120K +',\n",
    "    'Card_Category_Gold',\n",
    "    'Card_Category_Silver',\n",
    "    'Card_Category_Platinum'\n",
    "               ]]\n",
    "X_2 = sm.add_constant(X_2)"
   ]
  },
  {
   "cell_type": "code",
   "execution_count": 24,
   "metadata": {
    "scrolled": false
   },
   "outputs": [
    {
     "name": "stdout",
     "output_type": "stream",
     "text": [
      "Optimization terminated successfully.\n",
      "         Current function value: 0.238503\n",
      "         Iterations 8\n"
     ]
    }
   ],
   "source": [
    "log_reg_2 = sm.Logit(y_train_logreg.astype(float), X_2.astype(float)).fit()"
   ]
  },
  {
   "cell_type": "code",
   "execution_count": 25,
   "metadata": {
    "scrolled": true
   },
   "outputs": [
    {
     "name": "stdout",
     "output_type": "stream",
     "text": [
      "                           Logit Regression Results                           \n",
      "==============================================================================\n",
      "Dep. Variable:         Attrition_Flag   No. Observations:                 5310\n",
      "Model:                          Logit   Df Residuals:                     5286\n",
      "Method:                           MLE   Df Model:                           23\n",
      "Date:                Wed, 09 Feb 2022   Pseudo R-squ.:                  0.4546\n",
      "Time:                        20:41:36   Log-Likelihood:                -1266.5\n",
      "converged:                       True   LL-Null:                       -2322.0\n",
      "Covariance Type:            nonrobust   LLR p-value:                     0.000\n",
      "==================================================================================================\n",
      "                                     coef    std err          z      P>|z|      [0.025      0.975]\n",
      "--------------------------------------------------------------------------------------------------\n",
      "const                              7.2979      0.615     11.865      0.000       6.092       8.503\n",
      "Customer_Age                      -0.0131      0.011     -1.245      0.213      -0.034       0.008\n",
      "Dependent_count                    0.1248      0.041      3.049      0.002       0.045       0.205\n",
      "Months_on_book                    -0.0074      0.011     -0.700      0.484      -0.028       0.013\n",
      "Total_Relationship_Count          -0.4212      0.037    -11.235      0.000      -0.495      -0.348\n",
      "Months_Inactive_12_mon             0.4921      0.053      9.274      0.000       0.388       0.596\n",
      "Contacts_Count_12_mon              0.4831      0.050      9.719      0.000       0.386       0.580\n",
      "Total_Revolving_Bal               -0.0009   9.55e-05     -9.262      0.000      -0.001      -0.001\n",
      "Avg_Open_To_Buy                -2.128e-05   9.45e-06     -2.252      0.024   -3.98e-05   -2.76e-06\n",
      "Total_Amt_Chng_Q4_Q1              -0.5170      0.261     -1.982      0.047      -1.028      -0.006\n",
      "Total_Trans_Amt                    0.0005   3.11e-05     15.678      0.000       0.000       0.001\n",
      "Total_Trans_Ct                    -0.1180      0.005    -23.109      0.000      -0.128      -0.108\n",
      "Total_Ct_Chng_Q4_Q1               -2.6616      0.255    -10.429      0.000      -3.162      -2.161\n",
      "Avg_Utilization_Ratio             -0.3807      0.336     -1.134      0.257      -1.039       0.277\n",
      "Gender_M                          -0.9647      0.193     -4.987      0.000      -1.344      -0.586\n",
      "Marital_Status_Married            -0.6697      0.195     -3.426      0.001      -1.053      -0.287\n",
      "Marital_Status_Single             -0.0334      0.196     -0.170      0.865      -0.417       0.350\n",
      "Income_Category_$60K - $80K       -0.4449      0.229     -1.947      0.052      -0.893       0.003\n",
      "Income_Category_Less than $40K    -0.7706      0.285     -2.707      0.007      -1.329      -0.213\n",
      "Income_Category_$80K - $120K      -0.1147      0.212     -0.541      0.589      -0.531       0.301\n",
      "Income_Category_$40K - $60K       -0.8988      0.263     -3.416      0.001      -1.415      -0.383\n",
      "Card_Category_Gold                 0.8302      0.484      1.715      0.086      -0.119       1.779\n",
      "Card_Category_Silver               0.4455      0.261      1.706      0.088      -0.066       0.957\n",
      "Card_Category_Platinum             1.7186      1.165      1.475      0.140      -0.565       4.002\n",
      "==================================================================================================\n"
     ]
    }
   ],
   "source": [
    "print(log_reg_2.summary())"
   ]
  },
  {
   "cell_type": "code",
   "execution_count": 26,
   "metadata": {
    "scrolled": false
   },
   "outputs": [
    {
     "data": {
      "text/plain": [
       "'Marital_Status_Married = Marital_Status_Single'"
      ]
     },
     "execution_count": 26,
     "metadata": {},
     "output_type": "execute_result"
    }
   ],
   "source": [
    "# test łącznej istotności Marital_Status\n",
    "x_vars = log_reg_2.summary2().tables[1].index\n",
    "#x_vars\n",
    "wald_str = ' = '.join(list(x_vars[15:17]))\n",
    "wald_str\n"
   ]
  },
  {
   "cell_type": "code",
   "execution_count": 27,
   "metadata": {},
   "outputs": [
    {
     "data": {
      "text/plain": [
       "<class 'statsmodels.stats.contrast.ContrastResults'>\n",
       "<Wald test (chi2): statistic=[[32.0434897]], p-value=1.5075947447532242e-08, df_denom=1>"
      ]
     },
     "execution_count": 27,
     "metadata": {},
     "output_type": "execute_result"
    }
   ],
   "source": [
    "wald_test = log_reg_2.wald_test(wald_str) # joint test\n",
    "wald_test"
   ]
  },
  {
   "cell_type": "markdown",
   "metadata": {},
   "source": [
    "Ten sam test na zmienną Marital_Status, w tym przypadku można zostawić obie zmienne (p-value < 0.05)."
   ]
  },
  {
   "cell_type": "markdown",
   "metadata": {},
   "source": [
    "**Pominięcie zmiennej Months_on_book**"
   ]
  },
  {
   "cell_type": "code",
   "execution_count": 28,
   "metadata": {},
   "outputs": [
    {
     "name": "stderr",
     "output_type": "stream",
     "text": [
      "/home/adam_s/um/moje_srod/lib/python3.8/site-packages/statsmodels/tsa/tsatools.py:142: FutureWarning: In a future version of pandas all arguments of concat except for the argument 'objs' will be keyword-only\n",
      "  x = pd.concat(x[::order], 1)\n"
     ]
    }
   ],
   "source": [
    "X_3 = X_train_logreg[[\n",
    "    'Customer_Age',\n",
    "    'Dependent_count',\n",
    "    #'Months_on_book',\n",
    "    'Total_Relationship_Count',\n",
    "    'Months_Inactive_12_mon',\n",
    "    'Contacts_Count_12_mon',\n",
    "    #'Credit_Limit', \n",
    "    'Total_Revolving_Bal',\n",
    "    'Avg_Open_To_Buy',\n",
    "    'Total_Amt_Chng_Q4_Q1',\n",
    "    'Total_Trans_Amt',\n",
    "    'Total_Trans_Ct',\n",
    "    'Total_Ct_Chng_Q4_Q1',\n",
    "    'Avg_Utilization_Ratio',\n",
    "    'Gender_M',\n",
    "    #'Education_Level_High School',\n",
    "    #'Education_Level_Graduate',\n",
    "    #'Education_Level_Uneducated',\n",
    "    #'Education_Level_College',\n",
    "    #'Education_Level_Post-Graduate',\n",
    "    #'Education_Level_Doctorate',\n",
    "    'Marital_Status_Married',\n",
    "    'Marital_Status_Single',\n",
    "    #'Marital_Status_Divorced',\n",
    "    'Income_Category_$60K - $80K',\n",
    "    'Income_Category_Less than $40K',\n",
    "    'Income_Category_$80K - $120K',\n",
    "    'Income_Category_$40K - $60K',\n",
    "    #'Income_Category_$120K +',\n",
    "    'Card_Category_Gold',\n",
    "    'Card_Category_Silver',\n",
    "    'Card_Category_Platinum'\n",
    "               ]]\n",
    "X_3 = sm.add_constant(X_3)"
   ]
  },
  {
   "cell_type": "code",
   "execution_count": 29,
   "metadata": {
    "scrolled": false
   },
   "outputs": [
    {
     "name": "stdout",
     "output_type": "stream",
     "text": [
      "Optimization terminated successfully.\n",
      "         Current function value: 0.238549\n",
      "         Iterations 8\n"
     ]
    }
   ],
   "source": [
    "log_reg_3 = sm.Logit(y_train_logreg.astype(float), X_3.astype(float)).fit()"
   ]
  },
  {
   "cell_type": "code",
   "execution_count": 30,
   "metadata": {
    "scrolled": true
   },
   "outputs": [
    {
     "name": "stdout",
     "output_type": "stream",
     "text": [
      "                           Logit Regression Results                           \n",
      "==============================================================================\n",
      "Dep. Variable:         Attrition_Flag   No. Observations:                 5310\n",
      "Model:                          Logit   Df Residuals:                     5287\n",
      "Method:                           MLE   Df Model:                           22\n",
      "Date:                Wed, 09 Feb 2022   Pseudo R-squ.:                  0.4545\n",
      "Time:                        20:41:36   Log-Likelihood:                -1266.7\n",
      "converged:                       True   LL-Null:                       -2322.0\n",
      "Covariance Type:            nonrobust   LLR p-value:                     0.000\n",
      "==================================================================================================\n",
      "                                     coef    std err          z      P>|z|      [0.025      0.975]\n",
      "--------------------------------------------------------------------------------------------------\n",
      "const                              7.3161      0.615     11.901      0.000       6.111       8.521\n",
      "Customer_Age                      -0.0190      0.006     -2.977      0.003      -0.032      -0.007\n",
      "Dependent_count                    0.1255      0.041      3.065      0.002       0.045       0.206\n",
      "Total_Relationship_Count          -0.4210      0.037    -11.232      0.000      -0.494      -0.348\n",
      "Months_Inactive_12_mon             0.4888      0.053      9.252      0.000       0.385       0.592\n",
      "Contacts_Count_12_mon              0.4828      0.050      9.721      0.000       0.385       0.580\n",
      "Total_Revolving_Bal               -0.0009   9.55e-05     -9.288      0.000      -0.001      -0.001\n",
      "Avg_Open_To_Buy                -2.119e-05   9.45e-06     -2.243      0.025   -3.97e-05   -2.67e-06\n",
      "Total_Amt_Chng_Q4_Q1              -0.5168      0.261     -1.982      0.048      -1.028      -0.006\n",
      "Total_Trans_Amt                    0.0005   3.11e-05     15.719      0.000       0.000       0.001\n",
      "Total_Trans_Ct                    -0.1181      0.005    -23.124      0.000      -0.128      -0.108\n",
      "Total_Ct_Chng_Q4_Q1               -2.6601      0.255    -10.419      0.000      -3.160      -2.160\n",
      "Avg_Utilization_Ratio             -0.3726      0.335     -1.111      0.267      -1.030       0.285\n",
      "Gender_M                          -0.9680      0.193     -5.005      0.000      -1.347      -0.589\n",
      "Marital_Status_Married            -0.6676      0.195     -3.416      0.001      -1.051      -0.285\n",
      "Marital_Status_Single             -0.0323      0.196     -0.165      0.869      -0.416       0.351\n",
      "Income_Category_$60K - $80K       -0.4484      0.228     -1.963      0.050      -0.896      -0.001\n",
      "Income_Category_Less than $40K    -0.7769      0.284     -2.731      0.006      -1.335      -0.219\n",
      "Income_Category_$80K - $120K      -0.1162      0.212     -0.548      0.584      -0.532       0.300\n",
      "Income_Category_$40K - $60K       -0.9040      0.263     -3.438      0.001      -1.419      -0.389\n",
      "Card_Category_Gold                 0.8310      0.484      1.717      0.086      -0.117       1.779\n",
      "Card_Category_Silver               0.4428      0.261      1.696      0.090      -0.069       0.954\n",
      "Card_Category_Platinum             1.7425      1.164      1.496      0.135      -0.540       4.025\n",
      "==================================================================================================\n"
     ]
    }
   ],
   "source": [
    "print(log_reg_3.summary())"
   ]
  },
  {
   "cell_type": "markdown",
   "metadata": {},
   "source": [
    "**Pominięcie Avg_Utilization_Ratio**"
   ]
  },
  {
   "cell_type": "code",
   "execution_count": 31,
   "metadata": {},
   "outputs": [
    {
     "name": "stderr",
     "output_type": "stream",
     "text": [
      "/home/adam_s/um/moje_srod/lib/python3.8/site-packages/statsmodels/tsa/tsatools.py:142: FutureWarning: In a future version of pandas all arguments of concat except for the argument 'objs' will be keyword-only\n",
      "  x = pd.concat(x[::order], 1)\n"
     ]
    }
   ],
   "source": [
    "X_4 = X_train_logreg[[\n",
    "    'Customer_Age',\n",
    "    'Dependent_count',\n",
    "    #'Months_on_book',\n",
    "    'Total_Relationship_Count',\n",
    "    'Months_Inactive_12_mon',\n",
    "    'Contacts_Count_12_mon',\n",
    "    #'Credit_Limit', \n",
    "    'Total_Revolving_Bal',\n",
    "    'Avg_Open_To_Buy',\n",
    "    'Total_Amt_Chng_Q4_Q1',\n",
    "    'Total_Trans_Amt',\n",
    "    'Total_Trans_Ct',\n",
    "    'Total_Ct_Chng_Q4_Q1',\n",
    "    #'Avg_Utilization_Ratio',\n",
    "    'Gender_M',\n",
    "    #'Education_Level_High School',\n",
    "    #'Education_Level_Graduate',\n",
    "    #'Education_Level_Uneducated',\n",
    "    #'Education_Level_College',\n",
    "    #'Education_Level_Post-Graduate',\n",
    "    #'Education_Level_Doctorate',\n",
    "    'Marital_Status_Married',\n",
    "    'Marital_Status_Single',\n",
    "    #'Marital_Status_Divorced',\n",
    "    'Income_Category_$60K - $80K',\n",
    "    'Income_Category_Less than $40K',\n",
    "    'Income_Category_$80K - $120K',\n",
    "    'Income_Category_$40K - $60K',\n",
    "    #'Income_Category_$120K +',\n",
    "    'Card_Category_Gold',\n",
    "    'Card_Category_Silver',\n",
    "    'Card_Category_Platinum'\n",
    "                    ]]\n",
    "X_4 = sm.add_constant(X_4)"
   ]
  },
  {
   "cell_type": "code",
   "execution_count": 32,
   "metadata": {
    "scrolled": false
   },
   "outputs": [
    {
     "name": "stdout",
     "output_type": "stream",
     "text": [
      "Optimization terminated successfully.\n",
      "         Current function value: 0.238666\n",
      "         Iterations 8\n"
     ]
    }
   ],
   "source": [
    "log_reg_4 = sm.Logit(y_train_logreg.astype(float), X_4.astype(float)).fit()"
   ]
  },
  {
   "cell_type": "code",
   "execution_count": 33,
   "metadata": {
    "scrolled": true
   },
   "outputs": [
    {
     "name": "stdout",
     "output_type": "stream",
     "text": [
      "                                Results: Logit\n",
      "===============================================================================\n",
      "Model:                   Logit                 Pseudo R-squared:      0.454    \n",
      "Dependent Variable:      Attrition_Flag        AIC:                   2578.6337\n",
      "Date:                    2022-02-09 20:41      BIC:                   2723.3353\n",
      "No. Observations:        5310                  Log-Likelihood:        -1267.3  \n",
      "Df Model:                21                    LL-Null:               -2322.0  \n",
      "Df Residuals:            5288                  LLR p-value:           0.0000   \n",
      "Converged:               1.0000                Scale:                 1.0000   \n",
      "No. Iterations:          8.0000                                                \n",
      "-------------------------------------------------------------------------------\n",
      "                                Coef.  Std.Err.    z     P>|z|   [0.025  0.975]\n",
      "-------------------------------------------------------------------------------\n",
      "const                           7.2940   0.6144  11.8722 0.0000  6.0899  8.4982\n",
      "Customer_Age                   -0.0190   0.0064  -2.9736 0.0029 -0.0315 -0.0065\n",
      "Dependent_count                 0.1252   0.0409   3.0606 0.0022  0.0450  0.2054\n",
      "Total_Relationship_Count       -0.4213   0.0375 -11.2470 0.0000 -0.4947 -0.3479\n",
      "Months_Inactive_12_mon          0.4862   0.0527   9.2282 0.0000  0.3829  0.5895\n",
      "Contacts_Count_12_mon           0.4834   0.0497   9.7303 0.0000  0.3860  0.5808\n",
      "Total_Revolving_Bal            -0.0010   0.0001 -15.1973 0.0000 -0.0011 -0.0008\n",
      "Avg_Open_To_Buy                -0.0000   0.0000  -1.9670 0.0492 -0.0000 -0.0000\n",
      "Total_Amt_Chng_Q4_Q1           -0.5239   0.2611  -2.0069 0.0448 -1.0356 -0.0123\n",
      "Total_Trans_Amt                 0.0005   0.0000  15.8169 0.0000  0.0004  0.0006\n",
      "Total_Trans_Ct                 -0.1184   0.0051 -23.1905 0.0000 -0.1284 -0.1084\n",
      "Total_Ct_Chng_Q4_Q1            -2.6624   0.2552 -10.4311 0.0000 -3.1627 -2.1621\n",
      "Gender_M                       -0.9664   0.1934  -4.9981 0.0000 -1.3454 -0.5875\n",
      "Marital_Status_Married         -0.6679   0.1956  -3.4152 0.0006 -1.0512 -0.2846\n",
      "Marital_Status_Single          -0.0363   0.1958  -0.1853 0.8530 -0.4200  0.3475\n",
      "Income_Category_$60K - $80K    -0.4366   0.2288  -1.9087 0.0563 -0.8850  0.0117\n",
      "Income_Category_Less than $40K -0.7867   0.2847  -2.7633 0.0057 -1.3448 -0.2287\n",
      "Income_Category_$80K - $120K   -0.1069   0.2125  -0.5034 0.6147 -0.5233  0.3095\n",
      "Income_Category_$40K - $60K    -0.9034   0.2635  -3.4284 0.0006 -1.4199 -0.3870\n",
      "Card_Category_Gold              0.8317   0.4871   1.7074 0.0877 -0.1230  1.7863\n",
      "Card_Category_Silver            0.4403   0.2622   1.6791 0.0931 -0.0737  0.9542\n",
      "Card_Category_Platinum          1.7533   1.1716   1.4965 0.1345 -0.5430  4.0497\n",
      "===============================================================================\n",
      "\n"
     ]
    }
   ],
   "source": [
    "print(log_reg_4.summary2())"
   ]
  },
  {
   "cell_type": "code",
   "execution_count": 34,
   "metadata": {
    "scrolled": false
   },
   "outputs": [
    {
     "data": {
      "text/plain": [
       "'Income_Category_$60K - $80K = Income_Category_Less than $40K = Income_Category_$80K - $120K = Income_Category_$40K - $60K'"
      ]
     },
     "execution_count": 34,
     "metadata": {},
     "output_type": "execute_result"
    }
   ],
   "source": [
    "# test łącznej istotności Income_Category\n",
    "\n",
    "x_vars = log_reg_4.summary2().tables[1].index\n",
    "#x_vars\n",
    "wald_str = ' = '.join(list(x_vars[15:19]))\n",
    "wald_str\n"
   ]
  },
  {
   "cell_type": "code",
   "execution_count": 35,
   "metadata": {},
   "outputs": [
    {
     "data": {
      "text/plain": [
       "<class 'statsmodels.stats.contrast.ContrastResults'>\n",
       "<Wald test (chi2): statistic=[[12.70740372]], p-value=0.0053140468223303, df_denom=3>"
      ]
     },
     "execution_count": 35,
     "metadata": {},
     "output_type": "execute_result"
    }
   ],
   "source": [
    "wald_test = log_reg_4.wald_test(wald_str) # Wald test\n",
    "wald_test"
   ]
  },
  {
   "cell_type": "markdown",
   "metadata": {},
   "source": [
    "Test łącznej istotności parametrów przy zmiennych związanych z dochodem. Parametry przy zmiennych Income_Category_$60K - $80K oraz Income_Category_$80K - $120K nie są istotne statystycznie, natomiast pozostałe dwie kategorie oraz wspólny test wskazują na istotności statystyczną parametrów. Zasadne jest pozostawienie zmiennych w modelu."
   ]
  },
  {
   "cell_type": "code",
   "execution_count": 36,
   "metadata": {
    "scrolled": false
   },
   "outputs": [
    {
     "data": {
      "text/plain": [
       "'Card_Category_Gold = Card_Category_Silver = Card_Category_Platinum'"
      ]
     },
     "execution_count": 36,
     "metadata": {},
     "output_type": "execute_result"
    }
   ],
   "source": [
    "# test łącznej istotności Card_Category\n",
    "\n",
    "x_vars = log_reg_4.summary2().tables[1].index\n",
    "#x_vars\n",
    "wald_str = ' = '.join(list(x_vars[19:22]))\n",
    "wald_str\n"
   ]
  },
  {
   "cell_type": "code",
   "execution_count": 37,
   "metadata": {
    "scrolled": false
   },
   "outputs": [
    {
     "data": {
      "text/plain": [
       "<class 'statsmodels.stats.contrast.ContrastResults'>\n",
       "<Wald test (chi2): statistic=[[1.70146941]], p-value=0.42710102424866614, df_denom=2>"
      ]
     },
     "execution_count": 37,
     "metadata": {},
     "output_type": "execute_result"
    }
   ],
   "source": [
    "wald_test = log_reg_4.wald_test(wald_str) # Wald test\n",
    "wald_test"
   ]
  },
  {
   "cell_type": "markdown",
   "metadata": {},
   "source": [
    "Wszystkie parametry przy zmiennych dotyczących rodzaju karty są nie istotne statystycznie na poziomie istotności 0,05. Potwierdza to również test łączny dla tych parametrów. Zasadnym jest pominięcie tych zmiennych w modelu."
   ]
  },
  {
   "cell_type": "code",
   "execution_count": 38,
   "metadata": {
    "scrolled": false
   },
   "outputs": [
    {
     "data": {
      "text/plain": [
       "'Marital_Status_Married = Marital_Status_Single'"
      ]
     },
     "execution_count": 38,
     "metadata": {},
     "output_type": "execute_result"
    }
   ],
   "source": [
    "# test łącznej istotności Marital_Status\n",
    "\n",
    "x_vars = log_reg_4.summary2().tables[1].index\n",
    "#x_vars\n",
    "wald_str = ' = '.join(list(x_vars[13:15]))\n",
    "wald_str\n"
   ]
  },
  {
   "cell_type": "code",
   "execution_count": 39,
   "metadata": {
    "scrolled": true
   },
   "outputs": [
    {
     "data": {
      "text/plain": [
       "<class 'statsmodels.stats.contrast.ContrastResults'>\n",
       "<Wald test (chi2): statistic=[[31.64116951]], p-value=1.8545596792041255e-08, df_denom=1>"
      ]
     },
     "execution_count": 39,
     "metadata": {},
     "output_type": "execute_result"
    }
   ],
   "source": [
    "wald_test = log_reg_4.wald_test(wald_str) # Wald test\n",
    "wald_test"
   ]
  },
  {
   "cell_type": "markdown",
   "metadata": {},
   "source": [
    "Łączny test parametrów przy zmiennych dotyczących stanu cywilnego wskazuje na istotność statystyczną."
   ]
  },
  {
   "cell_type": "code",
   "execution_count": 40,
   "metadata": {},
   "outputs": [
    {
     "name": "stderr",
     "output_type": "stream",
     "text": [
      "/home/adam_s/um/moje_srod/lib/python3.8/site-packages/statsmodels/tsa/tsatools.py:142: FutureWarning: In a future version of pandas all arguments of concat except for the argument 'objs' will be keyword-only\n",
      "  x = pd.concat(x[::order], 1)\n"
     ]
    }
   ],
   "source": [
    "X_5 = X_train_logreg[[\n",
    "    'Customer_Age',\n",
    "    'Dependent_count',\n",
    "    #'Months_on_book',\n",
    "    'Total_Relationship_Count',\n",
    "    'Months_Inactive_12_mon',\n",
    "    'Contacts_Count_12_mon',\n",
    "    #'Credit_Limit', \n",
    "    'Total_Revolving_Bal',\n",
    "    'Avg_Open_To_Buy',\n",
    "    'Total_Amt_Chng_Q4_Q1',\n",
    "    'Total_Trans_Amt',\n",
    "    'Total_Trans_Ct',\n",
    "    'Total_Ct_Chng_Q4_Q1',\n",
    "    #'Avg_Utilization_Ratio',\n",
    "    'Gender_M',\n",
    "    #'Education_Level_High School',\n",
    "    #'Education_Level_Graduate',\n",
    "    #'Education_Level_Uneducated',\n",
    "    #'Education_Level_College',\n",
    "    #'Education_Level_Post-Graduate',\n",
    "    #'Education_Level_Doctorate',\n",
    "    'Marital_Status_Married',\n",
    "    'Marital_Status_Single',\n",
    "    #'Marital_Status_Divorced',\n",
    "    'Income_Category_$60K - $80K',\n",
    "    'Income_Category_Less than $40K',\n",
    "    'Income_Category_$80K - $120K',\n",
    "    'Income_Category_$40K - $60K'\n",
    "    #'Income_Category_$120K +',\n",
    "    #'Card_Category_Gold',\n",
    "    #'Card_Category_Silver',\n",
    "    #'Card_Category_Platinum'\n",
    "                    ]]\n",
    "X_5 = sm.add_constant(X_5)"
   ]
  },
  {
   "cell_type": "code",
   "execution_count": 41,
   "metadata": {
    "scrolled": false
   },
   "outputs": [
    {
     "name": "stdout",
     "output_type": "stream",
     "text": [
      "Optimization terminated successfully.\n",
      "         Current function value: 0.239254\n",
      "         Iterations 8\n"
     ]
    }
   ],
   "source": [
    "log_reg_5 = sm.Logit(y_train_logreg.astype(float), X_5.astype(float)).fit()"
   ]
  },
  {
   "cell_type": "code",
   "execution_count": 42,
   "metadata": {},
   "outputs": [
    {
     "name": "stdout",
     "output_type": "stream",
     "text": [
      "                                Results: Logit\n",
      "===============================================================================\n",
      "Model:                   Logit                 Pseudo R-squared:      0.453    \n",
      "Dependent Variable:      Attrition_Flag        AIC:                   2578.8797\n",
      "Date:                    2022-02-09 20:41      BIC:                   2703.8493\n",
      "No. Observations:        5310                  Log-Likelihood:        -1270.4  \n",
      "Df Model:                18                    LL-Null:               -2322.0  \n",
      "Df Residuals:            5291                  LLR p-value:           0.0000   \n",
      "Converged:               1.0000                Scale:                 1.0000   \n",
      "No. Iterations:          8.0000                                                \n",
      "-------------------------------------------------------------------------------\n",
      "                                Coef.  Std.Err.    z     P>|z|   [0.025  0.975]\n",
      "-------------------------------------------------------------------------------\n",
      "const                           7.1118   0.6083  11.6908 0.0000  5.9195  8.3041\n",
      "Customer_Age                   -0.0189   0.0064  -2.9607 0.0031 -0.0314 -0.0064\n",
      "Dependent_count                 0.1261   0.0408   3.0884 0.0020  0.0461  0.2061\n",
      "Total_Relationship_Count       -0.4210   0.0374 -11.2562 0.0000 -0.4943 -0.3477\n",
      "Months_Inactive_12_mon          0.4892   0.0526   9.3019 0.0000  0.3861  0.5923\n",
      "Contacts_Count_12_mon           0.4846   0.0496   9.7670 0.0000  0.3874  0.5819\n",
      "Total_Revolving_Bal            -0.0010   0.0001 -15.0910 0.0000 -0.0011 -0.0008\n",
      "Avg_Open_To_Buy                -0.0000   0.0000  -0.9493 0.3425 -0.0000  0.0000\n",
      "Total_Amt_Chng_Q4_Q1           -0.5115   0.2609  -1.9608 0.0499 -1.0227 -0.0002\n",
      "Total_Trans_Amt                 0.0005   0.0000  16.0142 0.0000  0.0004  0.0006\n",
      "Total_Trans_Ct                 -0.1181   0.0051 -23.1939 0.0000 -0.1281 -0.1081\n",
      "Total_Ct_Chng_Q4_Q1            -2.6716   0.2551 -10.4724 0.0000 -3.1716 -2.1716\n",
      "Gender_M                       -0.9613   0.1930  -4.9807 0.0000 -1.3395 -0.5830\n",
      "Marital_Status_Married         -0.6629   0.1949  -3.4006 0.0007 -1.0450 -0.2808\n",
      "Marital_Status_Single          -0.0329   0.1953  -0.1684 0.8663 -0.4156  0.3498\n",
      "Income_Category_$60K - $80K    -0.3781   0.2269  -1.6668 0.0955 -0.8228  0.0665\n",
      "Income_Category_Less than $40K -0.6733   0.2798  -2.4060 0.0161 -1.2217 -0.1248\n",
      "Income_Category_$80K - $120K   -0.0979   0.2117  -0.4625 0.6437 -0.5129  0.3170\n",
      "Income_Category_$40K - $60K    -0.7960   0.2588  -3.0752 0.0021 -1.3033 -0.2887\n",
      "===============================================================================\n",
      "\n"
     ]
    }
   ],
   "source": [
    "print(log_reg_5.summary2())"
   ]
  },
  {
   "cell_type": "markdown",
   "metadata": {},
   "source": [
    "**Pominięcie zmiennej Avg_Open_To_Buy**"
   ]
  },
  {
   "cell_type": "code",
   "execution_count": 43,
   "metadata": {},
   "outputs": [
    {
     "name": "stderr",
     "output_type": "stream",
     "text": [
      "/home/adam_s/um/moje_srod/lib/python3.8/site-packages/statsmodels/tsa/tsatools.py:142: FutureWarning: In a future version of pandas all arguments of concat except for the argument 'objs' will be keyword-only\n",
      "  x = pd.concat(x[::order], 1)\n"
     ]
    }
   ],
   "source": [
    "X_6 = X_train_logreg[[\n",
    "    'Customer_Age',\n",
    "    'Dependent_count',\n",
    "    #'Months_on_book',\n",
    "    'Total_Relationship_Count',\n",
    "    'Months_Inactive_12_mon',\n",
    "    'Contacts_Count_12_mon',\n",
    "    #'Credit_Limit', \n",
    "    'Total_Revolving_Bal',\n",
    "    #'Avg_Open_To_Buy',\n",
    "    'Total_Amt_Chng_Q4_Q1',\n",
    "    'Total_Trans_Amt',\n",
    "    'Total_Trans_Ct',\n",
    "    'Total_Ct_Chng_Q4_Q1',\n",
    "    #'Avg_Utilization_Ratio',\n",
    "    'Gender_M',\n",
    "    #'Education_Level_High School',\n",
    "    #'Education_Level_Graduate',\n",
    "    #'Education_Level_Uneducated',\n",
    "    #'Education_Level_College',\n",
    "    #'Education_Level_Post-Graduate',\n",
    "    #'Education_Level_Doctorate',\n",
    "    'Marital_Status_Married',\n",
    "    'Marital_Status_Single',\n",
    "    #'Marital_Status_Divorced',\n",
    "    'Income_Category_$60K - $80K',\n",
    "    'Income_Category_Less than $40K',\n",
    "    'Income_Category_$80K - $120K',\n",
    "    'Income_Category_$40K - $60K'\n",
    "    #'Income_Category_$120K +',\n",
    "    #'Card_Category_Gold',\n",
    "    #'Card_Category_Silver',\n",
    "    #'Card_Category_Platinum'\n",
    "                    ]]\n",
    "X_6 = sm.add_constant(X_6)"
   ]
  },
  {
   "cell_type": "code",
   "execution_count": 44,
   "metadata": {
    "scrolled": false
   },
   "outputs": [
    {
     "name": "stdout",
     "output_type": "stream",
     "text": [
      "Optimization terminated successfully.\n",
      "         Current function value: 0.239339\n",
      "         Iterations 8\n"
     ]
    }
   ],
   "source": [
    "log_reg_6 = sm.Logit(y_train_logreg.astype(float), X_6.astype(float)).fit()"
   ]
  },
  {
   "cell_type": "code",
   "execution_count": 45,
   "metadata": {},
   "outputs": [
    {
     "name": "stdout",
     "output_type": "stream",
     "text": [
      "                                Results: Logit\n",
      "===============================================================================\n",
      "Model:                   Logit                 Pseudo R-squared:      0.453    \n",
      "Dependent Variable:      Attrition_Flag        AIC:                   2577.7852\n",
      "Date:                    2022-02-09 20:41      BIC:                   2696.1774\n",
      "No. Observations:        5310                  Log-Likelihood:        -1270.9  \n",
      "Df Model:                17                    LL-Null:               -2322.0  \n",
      "Df Residuals:            5292                  LLR p-value:           0.0000   \n",
      "Converged:               1.0000                Scale:                 1.0000   \n",
      "No. Iterations:          8.0000                                                \n",
      "-------------------------------------------------------------------------------\n",
      "                                Coef.  Std.Err.    z     P>|z|   [0.025  0.975]\n",
      "-------------------------------------------------------------------------------\n",
      "const                           7.0106   0.5987  11.7093 0.0000  5.8371  8.1841\n",
      "Customer_Age                   -0.0192   0.0064  -3.0049 0.0027 -0.0317 -0.0067\n",
      "Dependent_count                 0.1242   0.0408   3.0466 0.0023  0.0443  0.2041\n",
      "Total_Relationship_Count       -0.4209   0.0374 -11.2533 0.0000 -0.4942 -0.3476\n",
      "Months_Inactive_12_mon          0.4900   0.0526   9.3149 0.0000  0.3869  0.5930\n",
      "Contacts_Count_12_mon           0.4830   0.0496   9.7461 0.0000  0.3859  0.5802\n",
      "Total_Revolving_Bal            -0.0009   0.0001 -15.0756 0.0000 -0.0011 -0.0008\n",
      "Total_Amt_Chng_Q4_Q1           -0.5161   0.2610  -1.9777 0.0480 -1.0276 -0.0046\n",
      "Total_Trans_Amt                 0.0005   0.0000  16.0056 0.0000  0.0004  0.0006\n",
      "Total_Trans_Ct                 -0.1180   0.0051 -23.1834 0.0000 -0.1280 -0.1080\n",
      "Total_Ct_Chng_Q4_Q1            -2.6701   0.2552 -10.4647 0.0000 -3.1702 -2.1700\n",
      "Gender_M                       -0.9668   0.1928  -5.0138 0.0000 -1.3448 -0.5889\n",
      "Marital_Status_Married         -0.6541   0.1946  -3.3618 0.0008 -1.0355 -0.2728\n",
      "Marital_Status_Single          -0.0328   0.1952  -0.1679 0.8666 -0.4153  0.3497\n",
      "Income_Category_$60K - $80K    -0.3226   0.2194  -1.4705 0.1414 -0.7525  0.1074\n",
      "Income_Category_Less than $40K -0.5741   0.2599  -2.2088 0.0272 -1.0836 -0.0647\n",
      "Income_Category_$80K - $120K   -0.0737   0.2101  -0.3510 0.7256 -0.4855  0.3380\n",
      "Income_Category_$40K - $60K    -0.7050   0.2407  -2.9294 0.0034 -1.1766 -0.2333\n",
      "===============================================================================\n",
      "\n"
     ]
    }
   ],
   "source": [
    "print(log_reg_6.summary2())"
   ]
  },
  {
   "cell_type": "code",
   "execution_count": 46,
   "metadata": {
    "scrolled": true
   },
   "outputs": [
    {
     "data": {
      "text/plain": [
       "'Marital_Status_Married = Marital_Status_Single'"
      ]
     },
     "execution_count": 46,
     "metadata": {},
     "output_type": "execute_result"
    }
   ],
   "source": [
    "# test łącznej istotności Marital_Status\n",
    "\n",
    "x_vars = log_reg_6.summary2().tables[1].index\n",
    "#x_vars\n",
    "wald_str = ' = '.join(list(x_vars[12:14]))\n",
    "wald_str\n"
   ]
  },
  {
   "cell_type": "code",
   "execution_count": 47,
   "metadata": {
    "scrolled": true
   },
   "outputs": [
    {
     "data": {
      "text/plain": [
       "<class 'statsmodels.stats.contrast.ContrastResults'>\n",
       "<Wald test (chi2): statistic=[[30.99708796]], p-value=2.5841585610824837e-08, df_denom=1>"
      ]
     },
     "execution_count": 47,
     "metadata": {},
     "output_type": "execute_result"
    }
   ],
   "source": [
    "wald_test = log_reg_6.wald_test(wald_str) # Wald test\n",
    "wald_test"
   ]
  },
  {
   "cell_type": "markdown",
   "metadata": {},
   "source": [
    "Łączny test parametrów przy zmiennych dotyczących stanu cywilnego wskazuje na istotność statystyczną."
   ]
  },
  {
   "cell_type": "code",
   "execution_count": 48,
   "metadata": {
    "scrolled": false
   },
   "outputs": [
    {
     "data": {
      "text/plain": [
       "'Income_Category_$60K - $80K = Income_Category_Less than $40K = Income_Category_$80K - $120K = Income_Category_$40K - $60K'"
      ]
     },
     "execution_count": 48,
     "metadata": {},
     "output_type": "execute_result"
    }
   ],
   "source": [
    "# test łącznej istotności Income_Category\n",
    "\n",
    "x_vars = log_reg_6.summary2().tables[1].index\n",
    "#x_vars\n",
    "wald_str = ' = '.join(list(x_vars[14:18]))\n",
    "wald_str\n"
   ]
  },
  {
   "cell_type": "code",
   "execution_count": 49,
   "metadata": {},
   "outputs": [
    {
     "data": {
      "text/plain": [
       "<class 'statsmodels.stats.contrast.ContrastResults'>\n",
       "<Wald test (chi2): statistic=[[9.22302688]], p-value=0.026467986954468205, df_denom=3>"
      ]
     },
     "execution_count": 49,
     "metadata": {},
     "output_type": "execute_result"
    }
   ],
   "source": [
    "wald_test = log_reg_6.wald_test(wald_str) # Wald test\n",
    "wald_test"
   ]
  },
  {
   "cell_type": "markdown",
   "metadata": {},
   "source": [
    "Test łącznej istotności parametrów przy zmiennych związanych z dochodem. Parametry przy zmiennych Income_Category_$60K - $80K oraz Income_Category_$80K - $120K nie są istotne statystycznie, natomiast pozostałe dwie kategorie oraz wspólny test wskazują na istotności statystyczną parametrów. Zasadne jest pozostawienie zmiennych w modelu."
   ]
  },
  {
   "cell_type": "markdown",
   "metadata": {},
   "source": [
    "**Finalny model to log_reg_6**"
   ]
  },
  {
   "cell_type": "markdown",
   "metadata": {},
   "source": [
    "**Ilorazy szans**"
   ]
  },
  {
   "cell_type": "code",
   "execution_count": 51,
   "metadata": {},
   "outputs": [
    {
     "data": {
      "text/plain": [
       "const                             1108.339307\n",
       "Customer_Age                         0.981015\n",
       "Dependent_count                      1.132214\n",
       "Total_Relationship_Count             0.656484\n",
       "Months_Inactive_12_mon               1.632241\n",
       "Contacts_Count_12_mon                1.620977\n",
       "Total_Revolving_Bal                  0.999051\n",
       "Total_Amt_Chng_Q4_Q1                 0.596824\n",
       "Total_Trans_Amt                      1.000491\n",
       "Total_Trans_Ct                       0.888688\n",
       "Total_Ct_Chng_Q4_Q1                  0.069245\n",
       "Gender_M                             0.380292\n",
       "Marital_Status_Married               0.519896\n",
       "Marital_Status_Single                0.967759\n",
       "Income_Category_$60K - $80K          0.724283\n",
       "Income_Category_Less than $40K       0.563193\n",
       "Income_Category_$80K - $120K         0.928912\n",
       "Income_Category_$40K - $60K          0.494123\n",
       "dtype: float64"
      ]
     },
     "execution_count": 51,
     "metadata": {},
     "output_type": "execute_result"
    }
   ],
   "source": [
    "np.exp(log_reg_6.params)"
   ]
  },
  {
   "cell_type": "markdown",
   "metadata": {},
   "source": [
    "Wzrost wieku o jeden rok spowoduje spadek szans na rezygnację z usług kart kredytowych o 2%.\n",
    "Kolejna dodatkowa osoba na utrzymaniu klienta spowoduje wzrost szans na rezygnację z usług kart kredytowych o 13%.\n",
    "Osoby w związku małżeńskim, w porównaniu do osób rozwiedzionych, mają o 52% mniejsze szanse na rezygnację z usług kart kredytowych. Osoby o dochodach poniżej 40 tys. dolarów mają o 44% mniejsze szanse na rezygnację z usług kart kredytowych, w porównaniu do osób o dochodach większych niż 120 tys. dolarów. Mężczyźni mają o 62% mniejsze szanse na rezygnację z usług kart kredytowych w porównaniu do kobiet."
   ]
  },
  {
   "cell_type": "code",
   "execution_count": 52,
   "metadata": {},
   "outputs": [
    {
     "name": "stderr",
     "output_type": "stream",
     "text": [
      "/home/adam_s/um/moje_srod/lib/python3.8/site-packages/statsmodels/tsa/tsatools.py:142: FutureWarning: In a future version of pandas all arguments of concat except for the argument 'objs' will be keyword-only\n",
      "  x = pd.concat(x[::order], 1)\n"
     ]
    }
   ],
   "source": [
    "X_6_test = X_test_logreg[[\n",
    "    'Customer_Age',\n",
    "    'Dependent_count',\n",
    "    #'Months_on_book',\n",
    "    'Total_Relationship_Count',\n",
    "    'Months_Inactive_12_mon',\n",
    "    'Contacts_Count_12_mon',\n",
    "    #'Credit_Limit', \n",
    "    'Total_Revolving_Bal',\n",
    "    #'Avg_Open_To_Buy',\n",
    "    'Total_Amt_Chng_Q4_Q1',\n",
    "    'Total_Trans_Amt',\n",
    "    'Total_Trans_Ct',\n",
    "    'Total_Ct_Chng_Q4_Q1',\n",
    "    #'Avg_Utilization_Ratio',\n",
    "    'Gender_M',\n",
    "    #'Education_Level_High School',\n",
    "    #'Education_Level_Graduate',\n",
    "    #'Education_Level_Uneducated',\n",
    "    #'Education_Level_College',\n",
    "    #'Education_Level_Post-Graduate',\n",
    "    #'Education_Level_Doctorate',\n",
    "    'Marital_Status_Married',\n",
    "    'Marital_Status_Single',\n",
    "    #'Marital_Status_Divorced',\n",
    "    'Income_Category_$60K - $80K',\n",
    "    'Income_Category_Less than $40K',\n",
    "    'Income_Category_$80K - $120K',\n",
    "    'Income_Category_$40K - $60K'\n",
    "    #'Income_Category_$120K +',\n",
    "    #'Card_Category_Gold',\n",
    "    #'Card_Category_Silver',\n",
    "    #'Card_Category_Platinum'\n",
    "               ]]\n",
    "X_6_test = sm.add_constant(X_6_test)"
   ]
  },
  {
   "cell_type": "code",
   "execution_count": 53,
   "metadata": {
    "scrolled": true
   },
   "outputs": [
    {
     "data": {
      "text/plain": [
       "count    1771.000000\n",
       "mean        0.153021\n",
       "std         0.360109\n",
       "min         0.000000\n",
       "25%         0.000000\n",
       "50%         0.000000\n",
       "75%         0.000000\n",
       "max         1.000000\n",
       "Name: Attrition_Flag, dtype: float64"
      ]
     },
     "execution_count": 53,
     "metadata": {},
     "output_type": "execute_result"
    }
   ],
   "source": [
    "y_test_logreg = y_test_logreg.astype(float)\n",
    "y_test_logreg.describe()"
   ]
  },
  {
   "cell_type": "code",
   "execution_count": 54,
   "metadata": {},
   "outputs": [
    {
     "data": {
      "text/plain": [
       "9866    0.0\n",
       "9239    0.0\n",
       "963     0.0\n",
       "1999    1.0\n",
       "2531    0.0\n",
       "       ... \n",
       "9288    0.0\n",
       "1961    0.0\n",
       "6059    0.0\n",
       "9300    0.0\n",
       "2827    0.0\n",
       "Length: 1771, dtype: float64"
      ]
     },
     "execution_count": 54,
     "metadata": {},
     "output_type": "execute_result"
    }
   ],
   "source": [
    "predicted_y_logreg = log_reg_6.predict(X_6_test)\n",
    "predicted_y_logreg = np.round(predicted_y_logreg, 0).astype(float)\n",
    "predicted_y_logreg"
   ]
  },
  {
   "cell_type": "code",
   "execution_count": 55,
   "metadata": {},
   "outputs": [
    {
     "name": "stdout",
     "output_type": "stream",
     "text": [
      "0.9040090344438171\n",
      "[[1443   57]\n",
      " [ 113  158]]\n",
      "              precision    recall  f1-score   support\n",
      "\n",
      "         0.0       0.93      0.96      0.94      1500\n",
      "         1.0       0.73      0.58      0.65       271\n",
      "\n",
      "    accuracy                           0.90      1771\n",
      "   macro avg       0.83      0.77      0.80      1771\n",
      "weighted avg       0.90      0.90      0.90      1771\n",
      "\n"
     ]
    }
   ],
   "source": [
    "print(metrics.accuracy_score(y_test_logreg, predicted_y_logreg))\n",
    "print(metrics.confusion_matrix(y_test_logreg, predicted_y_logreg))\n",
    "print(metrics.classification_report(y_test_logreg, predicted_y_logreg))"
   ]
  },
  {
   "cell_type": "markdown",
   "metadata": {},
   "source": [
    "Accuracy na zbiorze testowym wynosi 90%. Model 158 razy poprawnie przewidział rezygnację z usług kart kredytowych, gdzie w rzeczywistości również miało to miejsce. 1443 razy model poprawnie przewidział dalsze korzystanie z usług kart kredytowych, gdzie w rzeczywistości również miało to miejsce. 113 razy model przewidział dalsze korzystanie z usług kart kredytowych, gdzie w rzeczywistości nie miało to miejsca. 57 razy model przewidział rezygnację z usług kart kredytowych, gdzie w rzeczywistości nie miało to miejsca."
   ]
  },
  {
   "cell_type": "code",
   "execution_count": 56,
   "metadata": {},
   "outputs": [
    {
     "data": {
      "text/plain": [
       "8101     0.0\n",
       "8916     0.0\n",
       "7945     0.0\n",
       "10061    0.0\n",
       "4743     1.0\n",
       "        ... \n",
       "5242     0.0\n",
       "7365     0.0\n",
       "7413     1.0\n",
       "7681     0.0\n",
       "1158     0.0\n",
       "Length: 5310, dtype: float64"
      ]
     },
     "execution_count": 56,
     "metadata": {},
     "output_type": "execute_result"
    }
   ],
   "source": [
    "pred_train_y = log_reg_6.predict(X_6)\n",
    "pred_train_y = np.round(pred_train_y, 0).astype(float)\n",
    "pred_train_y"
   ]
  },
  {
   "cell_type": "code",
   "execution_count": 57,
   "metadata": {},
   "outputs": [
    {
     "name": "stdout",
     "output_type": "stream",
     "text": [
      "0.9024482109227872\n",
      "[[4314  154]\n",
      " [ 364  478]]\n",
      "              precision    recall  f1-score   support\n",
      "\n",
      "         0.0       0.92      0.97      0.94      4468\n",
      "         1.0       0.76      0.57      0.65       842\n",
      "\n",
      "    accuracy                           0.90      5310\n",
      "   macro avg       0.84      0.77      0.80      5310\n",
      "weighted avg       0.90      0.90      0.90      5310\n",
      "\n"
     ]
    }
   ],
   "source": [
    "print(metrics.accuracy_score(y_train_logreg.astype(float), pred_train_y))\n",
    "print(metrics.confusion_matrix(y_train_logreg.astype(float), pred_train_y))\n",
    "print(metrics.classification_report(y_train_logreg.astype(float), pred_train_y))"
   ]
  },
  {
   "cell_type": "markdown",
   "metadata": {},
   "source": [
    "Prezycja modelu na zbiorze treningowym"
   ]
  }
 ],
 "metadata": {
  "kernelspec": {
   "display_name": "Python 3 (ipykernel)",
   "language": "python",
   "name": "python3"
  },
  "language_info": {
   "codemirror_mode": {
    "name": "ipython",
    "version": 3
   },
   "file_extension": ".py",
   "mimetype": "text/x-python",
   "name": "python",
   "nbconvert_exporter": "python",
   "pygments_lexer": "ipython3",
   "version": "3.8.10"
  }
 },
 "nbformat": 4,
 "nbformat_minor": 4
}
